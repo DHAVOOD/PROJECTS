{
 "cells": [
  {
   "cell_type": "markdown",
   "id": "5875d781",
   "metadata": {},
   "source": [
    "### Wind Speed Prediction"
   ]
  },
  {
   "cell_type": "markdown",
   "id": "af415971",
   "metadata": {},
   "source": [
    "#### This is a regression problem in which we will try to predict wind speed."
   ]
  },
  {
   "cell_type": "raw",
   "id": "ec5524fc",
   "metadata": {},
   "source": [
    "*Content*\n",
    "The dataset contains 6574 instances of daily averaged responses from an array of 5 weather variables sensors embedded in a meteorological station. The device was located on the field in a significantly empty area, at 21M. Data were recorded from January 1961 to December 1978 (17 years). Ground Truth daily averaged precipitations, maximum and minimum temperatures, and grass minimum temperature were provided."
   ]
  },
  {
   "cell_type": "markdown",
   "id": "fab96b01",
   "metadata": {},
   "source": [
    "##### Attribute information"
   ]
  },
  {
   "cell_type": "raw",
   "id": "b92fc914",
   "metadata": {},
   "source": [
    "1.DATE (YYYY-MM-DD)\n",
    "2.WIND: Average wind speed [knots]\n",
    "3.IND: First indicator value\n",
    "4.RAIN: Precipitation Amount (mm)\n",
    "5.IND.1: Second indicator value\n",
    "6.T.MAX: Maximum Temperature (°C)\n",
    "7.IND.2: Third indicator value\n",
    "8.T.MIN: Minimum Temperature (°C)\n",
    "9.T.MIN.G: 09utc Grass Minimum Temperature (°C)"
   ]
  },
  {
   "cell_type": "markdown",
   "id": "74a808e5",
   "metadata": {},
   "source": [
    "https://www.kaggle.com/datasets/fedesoriano/wind-speed-prediction-dataset"
   ]
  },
  {
   "cell_type": "markdown",
   "id": "3c3da0c6",
   "metadata": {},
   "source": [
    "##### Loading the dependencies"
   ]
  },
  {
   "cell_type": "code",
   "execution_count": 21,
   "id": "4c61a33d",
   "metadata": {},
   "outputs": [],
   "source": [
    "import pandas as pd\n",
    "import numpy as np\n",
    "import matplotlib.pyplot as plt\n",
    "import seaborn as sns\n",
    "import warnings\n",
    "warnings.filterwarnings(\"ignore\")\n",
    "from sklearn.metrics import r2_score,mean_absolute_error, mean_squared_error\n",
    "from sklearn.preprocessing import LabelEncoder, StandardScaler\n",
    "from sklearn.model_selection import train_test_split,RandomizedSearchCV\n",
    "from sklearn.linear_model import LinearRegression,Ridge\n",
    "from sklearn.tree import DecisionTreeRegressor\n",
    "from sklearn.ensemble import GradientBoostingRegressor, RandomForestRegressor,AdaBoostRegressor\n",
    "from sklearn.svm import LinearSVR\n",
    "from fancyimpute import IterativeImputer\n",
    "import regex as re"
   ]
  },
  {
   "cell_type": "markdown",
   "id": "3e031ef0",
   "metadata": {},
   "source": [
    "##### Loading the dataset"
   ]
  },
  {
   "cell_type": "code",
   "execution_count": 22,
   "id": "e75adb1b",
   "metadata": {
    "scrolled": true
   },
   "outputs": [
    {
     "data": {
      "text/html": [
       "<div>\n",
       "<style scoped>\n",
       "    .dataframe tbody tr th:only-of-type {\n",
       "        vertical-align: middle;\n",
       "    }\n",
       "\n",
       "    .dataframe tbody tr th {\n",
       "        vertical-align: top;\n",
       "    }\n",
       "\n",
       "    .dataframe thead th {\n",
       "        text-align: right;\n",
       "    }\n",
       "</style>\n",
       "<table border=\"1\" class=\"dataframe\">\n",
       "  <thead>\n",
       "    <tr style=\"text-align: right;\">\n",
       "      <th></th>\n",
       "      <th>DATE</th>\n",
       "      <th>WIND</th>\n",
       "      <th>IND</th>\n",
       "      <th>RAIN</th>\n",
       "      <th>IND.1</th>\n",
       "      <th>T.MAX</th>\n",
       "      <th>IND.2</th>\n",
       "      <th>T.MIN</th>\n",
       "      <th>T.MIN.G</th>\n",
       "    </tr>\n",
       "  </thead>\n",
       "  <tbody>\n",
       "    <tr>\n",
       "      <th>0</th>\n",
       "      <td>1961-01-01</td>\n",
       "      <td>13.67</td>\n",
       "      <td>0</td>\n",
       "      <td>0.2</td>\n",
       "      <td>0.0</td>\n",
       "      <td>9.5</td>\n",
       "      <td>0.0</td>\n",
       "      <td>3.7</td>\n",
       "      <td>-1.0</td>\n",
       "    </tr>\n",
       "    <tr>\n",
       "      <th>1</th>\n",
       "      <td>1961-01-02</td>\n",
       "      <td>11.50</td>\n",
       "      <td>0</td>\n",
       "      <td>5.1</td>\n",
       "      <td>0.0</td>\n",
       "      <td>7.2</td>\n",
       "      <td>0.0</td>\n",
       "      <td>4.2</td>\n",
       "      <td>1.1</td>\n",
       "    </tr>\n",
       "    <tr>\n",
       "      <th>2</th>\n",
       "      <td>1961-01-03</td>\n",
       "      <td>11.25</td>\n",
       "      <td>0</td>\n",
       "      <td>0.4</td>\n",
       "      <td>0.0</td>\n",
       "      <td>5.5</td>\n",
       "      <td>0.0</td>\n",
       "      <td>0.5</td>\n",
       "      <td>-0.5</td>\n",
       "    </tr>\n",
       "    <tr>\n",
       "      <th>3</th>\n",
       "      <td>1961-01-04</td>\n",
       "      <td>8.63</td>\n",
       "      <td>0</td>\n",
       "      <td>0.2</td>\n",
       "      <td>0.0</td>\n",
       "      <td>5.6</td>\n",
       "      <td>0.0</td>\n",
       "      <td>0.4</td>\n",
       "      <td>-3.2</td>\n",
       "    </tr>\n",
       "    <tr>\n",
       "      <th>4</th>\n",
       "      <td>1961-01-05</td>\n",
       "      <td>11.92</td>\n",
       "      <td>0</td>\n",
       "      <td>10.4</td>\n",
       "      <td>0.0</td>\n",
       "      <td>7.2</td>\n",
       "      <td>1.0</td>\n",
       "      <td>-1.5</td>\n",
       "      <td>-7.5</td>\n",
       "    </tr>\n",
       "  </tbody>\n",
       "</table>\n",
       "</div>"
      ],
      "text/plain": [
       "         DATE   WIND  IND  RAIN  IND.1  T.MAX  IND.2  T.MIN  T.MIN.G\n",
       "0  1961-01-01  13.67    0   0.2    0.0    9.5    0.0    3.7     -1.0\n",
       "1  1961-01-02  11.50    0   5.1    0.0    7.2    0.0    4.2      1.1\n",
       "2  1961-01-03  11.25    0   0.4    0.0    5.5    0.0    0.5     -0.5\n",
       "3  1961-01-04   8.63    0   0.2    0.0    5.6    0.0    0.4     -3.2\n",
       "4  1961-01-05  11.92    0  10.4    0.0    7.2    1.0   -1.5     -7.5"
      ]
     },
     "execution_count": 22,
     "metadata": {},
     "output_type": "execute_result"
    }
   ],
   "source": [
    "data = pd.read_csv(\"wind_dataset.csv\")\n",
    "data.head()"
   ]
  },
  {
   "cell_type": "code",
   "execution_count": 23,
   "id": "9d896f11",
   "metadata": {},
   "outputs": [
    {
     "name": "stdout",
     "output_type": "stream",
     "text": [
      "<class 'pandas.core.frame.DataFrame'>\n",
      "RangeIndex: 6574 entries, 0 to 6573\n",
      "Data columns (total 9 columns):\n",
      " #   Column   Non-Null Count  Dtype  \n",
      "---  ------   --------------  -----  \n",
      " 0   DATE     6574 non-null   object \n",
      " 1   WIND     6574 non-null   float64\n",
      " 2   IND      6574 non-null   int64  \n",
      " 3   RAIN     6574 non-null   float64\n",
      " 4   IND.1    6513 non-null   float64\n",
      " 5   T.MAX    5953 non-null   float64\n",
      " 6   IND.2    6513 non-null   float64\n",
      " 7   T.MIN    5900 non-null   float64\n",
      " 8   T.MIN.G  6214 non-null   float64\n",
      "dtypes: float64(7), int64(1), object(1)\n",
      "memory usage: 462.4+ KB\n"
     ]
    }
   ],
   "source": [
    "data.info()"
   ]
  },
  {
   "cell_type": "code",
   "execution_count": 24,
   "id": "1944adfa",
   "metadata": {},
   "outputs": [
    {
     "data": {
      "text/html": [
       "<div>\n",
       "<style scoped>\n",
       "    .dataframe tbody tr th:only-of-type {\n",
       "        vertical-align: middle;\n",
       "    }\n",
       "\n",
       "    .dataframe tbody tr th {\n",
       "        vertical-align: top;\n",
       "    }\n",
       "\n",
       "    .dataframe thead th {\n",
       "        text-align: right;\n",
       "    }\n",
       "</style>\n",
       "<table border=\"1\" class=\"dataframe\">\n",
       "  <thead>\n",
       "    <tr style=\"text-align: right;\">\n",
       "      <th></th>\n",
       "      <th>count</th>\n",
       "      <th>mean</th>\n",
       "      <th>std</th>\n",
       "      <th>min</th>\n",
       "      <th>25%</th>\n",
       "      <th>50%</th>\n",
       "      <th>75%</th>\n",
       "      <th>max</th>\n",
       "    </tr>\n",
       "  </thead>\n",
       "  <tbody>\n",
       "    <tr>\n",
       "      <th>WIND</th>\n",
       "      <td>6574.0</td>\n",
       "      <td>9.796834</td>\n",
       "      <td>4.977272</td>\n",
       "      <td>0.0</td>\n",
       "      <td>6.0</td>\n",
       "      <td>9.21</td>\n",
       "      <td>12.96</td>\n",
       "      <td>30.37</td>\n",
       "    </tr>\n",
       "    <tr>\n",
       "      <th>IND</th>\n",
       "      <td>6574.0</td>\n",
       "      <td>0.391542</td>\n",
       "      <td>1.179092</td>\n",
       "      <td>0.0</td>\n",
       "      <td>0.0</td>\n",
       "      <td>0.00</td>\n",
       "      <td>0.00</td>\n",
       "      <td>4.00</td>\n",
       "    </tr>\n",
       "    <tr>\n",
       "      <th>RAIN</th>\n",
       "      <td>6574.0</td>\n",
       "      <td>1.885169</td>\n",
       "      <td>4.030529</td>\n",
       "      <td>0.0</td>\n",
       "      <td>0.0</td>\n",
       "      <td>0.20</td>\n",
       "      <td>2.00</td>\n",
       "      <td>67.00</td>\n",
       "    </tr>\n",
       "    <tr>\n",
       "      <th>IND.1</th>\n",
       "      <td>6513.0</td>\n",
       "      <td>0.356364</td>\n",
       "      <td>1.128552</td>\n",
       "      <td>0.0</td>\n",
       "      <td>0.0</td>\n",
       "      <td>0.00</td>\n",
       "      <td>0.00</td>\n",
       "      <td>4.00</td>\n",
       "    </tr>\n",
       "    <tr>\n",
       "      <th>T.MAX</th>\n",
       "      <td>5953.0</td>\n",
       "      <td>13.339123</td>\n",
       "      <td>4.890546</td>\n",
       "      <td>-0.1</td>\n",
       "      <td>9.6</td>\n",
       "      <td>13.30</td>\n",
       "      <td>17.20</td>\n",
       "      <td>26.80</td>\n",
       "    </tr>\n",
       "    <tr>\n",
       "      <th>IND.2</th>\n",
       "      <td>6513.0</td>\n",
       "      <td>0.464456</td>\n",
       "      <td>1.177571</td>\n",
       "      <td>0.0</td>\n",
       "      <td>0.0</td>\n",
       "      <td>0.00</td>\n",
       "      <td>0.00</td>\n",
       "      <td>4.00</td>\n",
       "    </tr>\n",
       "    <tr>\n",
       "      <th>T.MIN</th>\n",
       "      <td>5900.0</td>\n",
       "      <td>6.411678</td>\n",
       "      <td>4.637243</td>\n",
       "      <td>-11.5</td>\n",
       "      <td>3.0</td>\n",
       "      <td>6.50</td>\n",
       "      <td>10.00</td>\n",
       "      <td>18.00</td>\n",
       "    </tr>\n",
       "    <tr>\n",
       "      <th>T.MIN.G</th>\n",
       "      <td>6214.0</td>\n",
       "      <td>2.736547</td>\n",
       "      <td>5.569175</td>\n",
       "      <td>-14.4</td>\n",
       "      <td>-1.0</td>\n",
       "      <td>3.00</td>\n",
       "      <td>7.00</td>\n",
       "      <td>15.80</td>\n",
       "    </tr>\n",
       "  </tbody>\n",
       "</table>\n",
       "</div>"
      ],
      "text/plain": [
       "          count       mean       std   min  25%    50%    75%    max\n",
       "WIND     6574.0   9.796834  4.977272   0.0  6.0   9.21  12.96  30.37\n",
       "IND      6574.0   0.391542  1.179092   0.0  0.0   0.00   0.00   4.00\n",
       "RAIN     6574.0   1.885169  4.030529   0.0  0.0   0.20   2.00  67.00\n",
       "IND.1    6513.0   0.356364  1.128552   0.0  0.0   0.00   0.00   4.00\n",
       "T.MAX    5953.0  13.339123  4.890546  -0.1  9.6  13.30  17.20  26.80\n",
       "IND.2    6513.0   0.464456  1.177571   0.0  0.0   0.00   0.00   4.00\n",
       "T.MIN    5900.0   6.411678  4.637243 -11.5  3.0   6.50  10.00  18.00\n",
       "T.MIN.G  6214.0   2.736547  5.569175 -14.4 -1.0   3.00   7.00  15.80"
      ]
     },
     "execution_count": 24,
     "metadata": {},
     "output_type": "execute_result"
    }
   ],
   "source": [
    "data.describe().T"
   ]
  },
  {
   "cell_type": "code",
   "execution_count": 25,
   "id": "d485427a",
   "metadata": {
    "scrolled": true
   },
   "outputs": [
    {
     "data": {
      "text/plain": [
       "(6574, 9)"
      ]
     },
     "execution_count": 25,
     "metadata": {},
     "output_type": "execute_result"
    }
   ],
   "source": [
    "data.shape"
   ]
  },
  {
   "cell_type": "markdown",
   "id": "031e3a8e",
   "metadata": {},
   "source": [
    "#### Data preprocessing"
   ]
  },
  {
   "cell_type": "markdown",
   "id": "4fbc53d7",
   "metadata": {},
   "source": [
    "##### Renaming the columns"
   ]
  },
  {
   "cell_type": "code",
   "execution_count": 26,
   "id": "af77dcd3",
   "metadata": {},
   "outputs": [],
   "source": [
    "data.rename(columns={'IND.1':\"IND_1\", 'T.MAX':\"T_MAX\", 'IND.2':\"IND_2\", 'T.MIN':\"T_MIN\",\n",
    "       'T.MIN.G':\"T_MIN_G\"}, inplace=True)"
   ]
  },
  {
   "cell_type": "code",
   "execution_count": 27,
   "id": "a400e581",
   "metadata": {
    "scrolled": true
   },
   "outputs": [
    {
     "data": {
      "text/html": [
       "<div>\n",
       "<style scoped>\n",
       "    .dataframe tbody tr th:only-of-type {\n",
       "        vertical-align: middle;\n",
       "    }\n",
       "\n",
       "    .dataframe tbody tr th {\n",
       "        vertical-align: top;\n",
       "    }\n",
       "\n",
       "    .dataframe thead th {\n",
       "        text-align: right;\n",
       "    }\n",
       "</style>\n",
       "<table border=\"1\" class=\"dataframe\">\n",
       "  <thead>\n",
       "    <tr style=\"text-align: right;\">\n",
       "      <th></th>\n",
       "      <th>DATE</th>\n",
       "      <th>WIND</th>\n",
       "      <th>IND</th>\n",
       "      <th>RAIN</th>\n",
       "      <th>IND_1</th>\n",
       "      <th>T_MAX</th>\n",
       "      <th>IND_2</th>\n",
       "      <th>T_MIN</th>\n",
       "      <th>T_MIN_G</th>\n",
       "    </tr>\n",
       "  </thead>\n",
       "  <tbody>\n",
       "    <tr>\n",
       "      <th>0</th>\n",
       "      <td>1961-01-01</td>\n",
       "      <td>13.67</td>\n",
       "      <td>0</td>\n",
       "      <td>0.2</td>\n",
       "      <td>0.0</td>\n",
       "      <td>9.5</td>\n",
       "      <td>0.0</td>\n",
       "      <td>3.7</td>\n",
       "      <td>-1.0</td>\n",
       "    </tr>\n",
       "    <tr>\n",
       "      <th>1</th>\n",
       "      <td>1961-01-02</td>\n",
       "      <td>11.50</td>\n",
       "      <td>0</td>\n",
       "      <td>5.1</td>\n",
       "      <td>0.0</td>\n",
       "      <td>7.2</td>\n",
       "      <td>0.0</td>\n",
       "      <td>4.2</td>\n",
       "      <td>1.1</td>\n",
       "    </tr>\n",
       "    <tr>\n",
       "      <th>2</th>\n",
       "      <td>1961-01-03</td>\n",
       "      <td>11.25</td>\n",
       "      <td>0</td>\n",
       "      <td>0.4</td>\n",
       "      <td>0.0</td>\n",
       "      <td>5.5</td>\n",
       "      <td>0.0</td>\n",
       "      <td>0.5</td>\n",
       "      <td>-0.5</td>\n",
       "    </tr>\n",
       "    <tr>\n",
       "      <th>3</th>\n",
       "      <td>1961-01-04</td>\n",
       "      <td>8.63</td>\n",
       "      <td>0</td>\n",
       "      <td>0.2</td>\n",
       "      <td>0.0</td>\n",
       "      <td>5.6</td>\n",
       "      <td>0.0</td>\n",
       "      <td>0.4</td>\n",
       "      <td>-3.2</td>\n",
       "    </tr>\n",
       "    <tr>\n",
       "      <th>4</th>\n",
       "      <td>1961-01-05</td>\n",
       "      <td>11.92</td>\n",
       "      <td>0</td>\n",
       "      <td>10.4</td>\n",
       "      <td>0.0</td>\n",
       "      <td>7.2</td>\n",
       "      <td>1.0</td>\n",
       "      <td>-1.5</td>\n",
       "      <td>-7.5</td>\n",
       "    </tr>\n",
       "  </tbody>\n",
       "</table>\n",
       "</div>"
      ],
      "text/plain": [
       "         DATE   WIND  IND  RAIN  IND_1  T_MAX  IND_2  T_MIN  T_MIN_G\n",
       "0  1961-01-01  13.67    0   0.2    0.0    9.5    0.0    3.7     -1.0\n",
       "1  1961-01-02  11.50    0   5.1    0.0    7.2    0.0    4.2      1.1\n",
       "2  1961-01-03  11.25    0   0.4    0.0    5.5    0.0    0.5     -0.5\n",
       "3  1961-01-04   8.63    0   0.2    0.0    5.6    0.0    0.4     -3.2\n",
       "4  1961-01-05  11.92    0  10.4    0.0    7.2    1.0   -1.5     -7.5"
      ]
     },
     "execution_count": 27,
     "metadata": {},
     "output_type": "execute_result"
    }
   ],
   "source": [
    "data.head()"
   ]
  },
  {
   "cell_type": "markdown",
   "id": "ce7be993",
   "metadata": {},
   "source": [
    "##### Wind over the years"
   ]
  },
  {
   "cell_type": "code",
   "execution_count": 28,
   "id": "1ca1f5e0",
   "metadata": {},
   "outputs": [
    {
     "data": {
      "image/png": "[encoded data removed]",
      "text/plain": [
       "<Figure size 1008x432 with 1 Axes>"
      ]
     },
     "metadata": {
      "needs_background": "light"
     },
     "output_type": "display_data"
    }
   ],
   "source": [
    "data.plot(x='DATE',y='WIND',figsize=(14,6));"
   ]
  },
  {
   "cell_type": "markdown",
   "id": "e5bf6308",
   "metadata": {},
   "source": [
    "##### Change the data type of DATE column "
   ]
  },
  {
   "cell_type": "code",
   "execution_count": 29,
   "id": "61634b10",
   "metadata": {},
   "outputs": [],
   "source": [
    "data[\"DATE\"] = pd.to_datetime(data.DATE)"
   ]
  },
  {
   "cell_type": "markdown",
   "id": "a9ad6f40",
   "metadata": {},
   "source": [
    "#### Extract day, month and year from the DATE column"
   ]
  },
  {
   "cell_type": "code",
   "execution_count": 30,
   "id": "e7c57ecc",
   "metadata": {},
   "outputs": [],
   "source": [
    "data[\"Day\"] = data[\"DATE\"].dt.day\n",
    "data[\"Month\"] = data[\"DATE\"].dt.month\n",
    "data[\"Year\"] = data[\"DATE\"].dt.year"
   ]
  },
  {
   "cell_type": "markdown",
   "id": "4b49e8ab",
   "metadata": {},
   "source": [
    "##### Lets drop the DATE column"
   ]
  },
  {
   "cell_type": "code",
   "execution_count": 31,
   "id": "eacf73ac",
   "metadata": {},
   "outputs": [],
   "source": [
    "data.drop(columns=\"DATE\", inplace=True)"
   ]
  },
  {
   "cell_type": "code",
   "execution_count": 32,
   "id": "2386bbc1",
   "metadata": {},
   "outputs": [
    {
     "data": {
      "text/html": [
       "<div>\n",
       "<style scoped>\n",
       "    .dataframe tbody tr th:only-of-type {\n",
       "        vertical-align: middle;\n",
       "    }\n",
       "\n",
       "    .dataframe tbody tr th {\n",
       "        vertical-align: top;\n",
       "    }\n",
       "\n",
       "    .dataframe thead th {\n",
       "        text-align: right;\n",
       "    }\n",
       "</style>\n",
       "<table border=\"1\" class=\"dataframe\">\n",
       "  <thead>\n",
       "    <tr style=\"text-align: right;\">\n",
       "      <th></th>\n",
       "      <th>WIND</th>\n",
       "      <th>IND</th>\n",
       "      <th>RAIN</th>\n",
       "      <th>IND_1</th>\n",
       "      <th>T_MAX</th>\n",
       "      <th>IND_2</th>\n",
       "      <th>T_MIN</th>\n",
       "      <th>T_MIN_G</th>\n",
       "      <th>Day</th>\n",
       "      <th>Month</th>\n",
       "      <th>Year</th>\n",
       "    </tr>\n",
       "  </thead>\n",
       "  <tbody>\n",
       "    <tr>\n",
       "      <th>0</th>\n",
       "      <td>13.67</td>\n",
       "      <td>0</td>\n",
       "      <td>0.2</td>\n",
       "      <td>0.0</td>\n",
       "      <td>9.5</td>\n",
       "      <td>0.0</td>\n",
       "      <td>3.7</td>\n",
       "      <td>-1.0</td>\n",
       "      <td>1</td>\n",
       "      <td>1</td>\n",
       "      <td>1961</td>\n",
       "    </tr>\n",
       "    <tr>\n",
       "      <th>1</th>\n",
       "      <td>11.50</td>\n",
       "      <td>0</td>\n",
       "      <td>5.1</td>\n",
       "      <td>0.0</td>\n",
       "      <td>7.2</td>\n",
       "      <td>0.0</td>\n",
       "      <td>4.2</td>\n",
       "      <td>1.1</td>\n",
       "      <td>2</td>\n",
       "      <td>1</td>\n",
       "      <td>1961</td>\n",
       "    </tr>\n",
       "    <tr>\n",
       "      <th>2</th>\n",
       "      <td>11.25</td>\n",
       "      <td>0</td>\n",
       "      <td>0.4</td>\n",
       "      <td>0.0</td>\n",
       "      <td>5.5</td>\n",
       "      <td>0.0</td>\n",
       "      <td>0.5</td>\n",
       "      <td>-0.5</td>\n",
       "      <td>3</td>\n",
       "      <td>1</td>\n",
       "      <td>1961</td>\n",
       "    </tr>\n",
       "    <tr>\n",
       "      <th>3</th>\n",
       "      <td>8.63</td>\n",
       "      <td>0</td>\n",
       "      <td>0.2</td>\n",
       "      <td>0.0</td>\n",
       "      <td>5.6</td>\n",
       "      <td>0.0</td>\n",
       "      <td>0.4</td>\n",
       "      <td>-3.2</td>\n",
       "      <td>4</td>\n",
       "      <td>1</td>\n",
       "      <td>1961</td>\n",
       "    </tr>\n",
       "    <tr>\n",
       "      <th>4</th>\n",
       "      <td>11.92</td>\n",
       "      <td>0</td>\n",
       "      <td>10.4</td>\n",
       "      <td>0.0</td>\n",
       "      <td>7.2</td>\n",
       "      <td>1.0</td>\n",
       "      <td>-1.5</td>\n",
       "      <td>-7.5</td>\n",
       "      <td>5</td>\n",
       "      <td>1</td>\n",
       "      <td>1961</td>\n",
       "    </tr>\n",
       "  </tbody>\n",
       "</table>\n",
       "</div>"
      ],
      "text/plain": [
       "    WIND  IND  RAIN  IND_1  T_MAX  IND_2  T_MIN  T_MIN_G  Day  Month  Year\n",
       "0  13.67    0   0.2    0.0    9.5    0.0    3.7     -1.0    1      1  1961\n",
       "1  11.50    0   5.1    0.0    7.2    0.0    4.2      1.1    2      1  1961\n",
       "2  11.25    0   0.4    0.0    5.5    0.0    0.5     -0.5    3      1  1961\n",
       "3   8.63    0   0.2    0.0    5.6    0.0    0.4     -3.2    4      1  1961\n",
       "4  11.92    0  10.4    0.0    7.2    1.0   -1.5     -7.5    5      1  1961"
      ]
     },
     "execution_count": 32,
     "metadata": {},
     "output_type": "execute_result"
    }
   ],
   "source": [
    "data.head()"
   ]
  },
  {
   "cell_type": "code",
   "execution_count": 33,
   "id": "2d2ee182",
   "metadata": {
    "scrolled": false
   },
   "outputs": [
    {
     "name": "stdout",
     "output_type": "stream",
     "text": [
      "<class 'pandas.core.frame.DataFrame'>\n",
      "RangeIndex: 6574 entries, 0 to 6573\n",
      "Data columns (total 11 columns):\n",
      " #   Column   Non-Null Count  Dtype  \n",
      "---  ------   --------------  -----  \n",
      " 0   WIND     6574 non-null   float64\n",
      " 1   IND      6574 non-null   int64  \n",
      " 2   RAIN     6574 non-null   float64\n",
      " 3   IND_1    6513 non-null   float64\n",
      " 4   T_MAX    5953 non-null   float64\n",
      " 5   IND_2    6513 non-null   float64\n",
      " 6   T_MIN    5900 non-null   float64\n",
      " 7   T_MIN_G  6214 non-null   float64\n",
      " 8   Day      6574 non-null   int64  \n",
      " 9   Month    6574 non-null   int64  \n",
      " 10  Year     6574 non-null   int64  \n",
      "dtypes: float64(7), int64(4)\n",
      "memory usage: 565.1 KB\n"
     ]
    }
   ],
   "source": [
    "data.info()"
   ]
  },
  {
   "cell_type": "markdown",
   "id": "025e41a1",
   "metadata": {},
   "source": [
    "#### Data Visualization"
   ]
  },
  {
   "cell_type": "code",
   "execution_count": 34,
   "id": "6661f9fc",
   "metadata": {
    "scrolled": true
   },
   "outputs": [
    {
     "data": {
      "image/png": "[encoded data removed]",
      "text/plain": [
       "<Figure size 864x288 with 1 Axes>"
      ]
     },
     "metadata": {
      "needs_background": "light"
     },
     "output_type": "display_data"
    }
   ],
   "source": [
    "plt.figure(figsize=(12,4))\n",
    "plt.title(\"WIND VS RAIN\")\n",
    "sns.lineplot(data=data, x=\"RAIN\", y=\"WIND\");"
   ]
  },
  {
   "cell_type": "markdown",
   "id": "4c6d8fb8",
   "metadata": {},
   "source": [
    "##### Null data percentage"
   ]
  },
  {
   "cell_type": "code",
   "execution_count": 35,
   "id": "a7475998",
   "metadata": {
    "scrolled": false
   },
   "outputs": [
    {
     "data": {
      "text/plain": [
       "WIND        0.000000\n",
       "IND         0.000000\n",
       "RAIN        0.000000\n",
       "IND_1       0.927898\n",
       "T_MAX       9.446304\n",
       "IND_2       0.927898\n",
       "T_MIN      10.252510\n",
       "T_MIN_G     5.476118\n",
       "Day         0.000000\n",
       "Month       0.000000\n",
       "Year        0.000000\n",
       "dtype: float64"
      ]
     },
     "execution_count": 35,
     "metadata": {},
     "output_type": "execute_result"
    }
   ],
   "source": [
    "null_percent = data.isnull().mean()*100\n",
    "null_percent"
   ]
  },
  {
   "cell_type": "markdown",
   "id": "5eb5e27c",
   "metadata": {},
   "source": [
    "##### Impute the missing data using Iterative imputer"
   ]
  },
  {
   "cell_type": "code",
   "execution_count": 36,
   "id": "fe074eee",
   "metadata": {},
   "outputs": [],
   "source": [
    "data_mice = data.copy(deep=True)"
   ]
  },
  {
   "cell_type": "code",
   "execution_count": 37,
   "id": "711250ef",
   "metadata": {},
   "outputs": [],
   "source": [
    "mice = IterativeImputer()"
   ]
  },
  {
   "cell_type": "code",
   "execution_count": 38,
   "id": "f6729d40",
   "metadata": {},
   "outputs": [],
   "source": [
    "data_mice.iloc[:,:] = mice.fit_transform(data_mice)"
   ]
  },
  {
   "cell_type": "code",
   "execution_count": 39,
   "id": "0998ab22",
   "metadata": {},
   "outputs": [
    {
     "data": {
      "text/plain": [
       "WIND       0\n",
       "IND        0\n",
       "RAIN       0\n",
       "IND_1      0\n",
       "T_MAX      0\n",
       "IND_2      0\n",
       "T_MIN      0\n",
       "T_MIN_G    0\n",
       "Day        0\n",
       "Month      0\n",
       "Year       0\n",
       "dtype: int64"
      ]
     },
     "execution_count": 39,
     "metadata": {},
     "output_type": "execute_result"
    }
   ],
   "source": [
    "data_mice.isnull().sum()"
   ]
  },
  {
   "cell_type": "code",
   "execution_count": 40,
   "id": "860edc74",
   "metadata": {},
   "outputs": [
    {
     "data": {
      "text/html": [
       "<div>\n",
       "<style scoped>\n",
       "    .dataframe tbody tr th:only-of-type {\n",
       "        vertical-align: middle;\n",
       "    }\n",
       "\n",
       "    .dataframe tbody tr th {\n",
       "        vertical-align: top;\n",
       "    }\n",
       "\n",
       "    .dataframe thead th {\n",
       "        text-align: right;\n",
       "    }\n",
       "</style>\n",
       "<table border=\"1\" class=\"dataframe\">\n",
       "  <thead>\n",
       "    <tr style=\"text-align: right;\">\n",
       "      <th></th>\n",
       "      <th>WIND</th>\n",
       "      <th>IND</th>\n",
       "      <th>RAIN</th>\n",
       "      <th>IND_1</th>\n",
       "      <th>T_MAX</th>\n",
       "      <th>IND_2</th>\n",
       "      <th>T_MIN</th>\n",
       "      <th>T_MIN_G</th>\n",
       "      <th>Day</th>\n",
       "      <th>Month</th>\n",
       "      <th>Year</th>\n",
       "    </tr>\n",
       "  </thead>\n",
       "  <tbody>\n",
       "    <tr>\n",
       "      <th>0</th>\n",
       "      <td>13.67</td>\n",
       "      <td>0.0</td>\n",
       "      <td>0.2</td>\n",
       "      <td>0.0</td>\n",
       "      <td>9.5</td>\n",
       "      <td>0.0</td>\n",
       "      <td>3.7</td>\n",
       "      <td>-1.0</td>\n",
       "      <td>1.0</td>\n",
       "      <td>1.0</td>\n",
       "      <td>1961.0</td>\n",
       "    </tr>\n",
       "    <tr>\n",
       "      <th>1</th>\n",
       "      <td>11.50</td>\n",
       "      <td>0.0</td>\n",
       "      <td>5.1</td>\n",
       "      <td>0.0</td>\n",
       "      <td>7.2</td>\n",
       "      <td>0.0</td>\n",
       "      <td>4.2</td>\n",
       "      <td>1.1</td>\n",
       "      <td>2.0</td>\n",
       "      <td>1.0</td>\n",
       "      <td>1961.0</td>\n",
       "    </tr>\n",
       "    <tr>\n",
       "      <th>2</th>\n",
       "      <td>11.25</td>\n",
       "      <td>0.0</td>\n",
       "      <td>0.4</td>\n",
       "      <td>0.0</td>\n",
       "      <td>5.5</td>\n",
       "      <td>0.0</td>\n",
       "      <td>0.5</td>\n",
       "      <td>-0.5</td>\n",
       "      <td>3.0</td>\n",
       "      <td>1.0</td>\n",
       "      <td>1961.0</td>\n",
       "    </tr>\n",
       "    <tr>\n",
       "      <th>3</th>\n",
       "      <td>8.63</td>\n",
       "      <td>0.0</td>\n",
       "      <td>0.2</td>\n",
       "      <td>0.0</td>\n",
       "      <td>5.6</td>\n",
       "      <td>0.0</td>\n",
       "      <td>0.4</td>\n",
       "      <td>-3.2</td>\n",
       "      <td>4.0</td>\n",
       "      <td>1.0</td>\n",
       "      <td>1961.0</td>\n",
       "    </tr>\n",
       "    <tr>\n",
       "      <th>4</th>\n",
       "      <td>11.92</td>\n",
       "      <td>0.0</td>\n",
       "      <td>10.4</td>\n",
       "      <td>0.0</td>\n",
       "      <td>7.2</td>\n",
       "      <td>1.0</td>\n",
       "      <td>-1.5</td>\n",
       "      <td>-7.5</td>\n",
       "      <td>5.0</td>\n",
       "      <td>1.0</td>\n",
       "      <td>1961.0</td>\n",
       "    </tr>\n",
       "  </tbody>\n",
       "</table>\n",
       "</div>"
      ],
      "text/plain": [
       "    WIND  IND  RAIN  IND_1  T_MAX  IND_2  T_MIN  T_MIN_G  Day  Month    Year\n",
       "0  13.67  0.0   0.2    0.0    9.5    0.0    3.7     -1.0  1.0    1.0  1961.0\n",
       "1  11.50  0.0   5.1    0.0    7.2    0.0    4.2      1.1  2.0    1.0  1961.0\n",
       "2  11.25  0.0   0.4    0.0    5.5    0.0    0.5     -0.5  3.0    1.0  1961.0\n",
       "3   8.63  0.0   0.2    0.0    5.6    0.0    0.4     -3.2  4.0    1.0  1961.0\n",
       "4  11.92  0.0  10.4    0.0    7.2    1.0   -1.5     -7.5  5.0    1.0  1961.0"
      ]
     },
     "execution_count": 40,
     "metadata": {},
     "output_type": "execute_result"
    }
   ],
   "source": [
    "data_mice.head()"
   ]
  },
  {
   "cell_type": "code",
   "execution_count": 41,
   "id": "cb369ac7",
   "metadata": {},
   "outputs": [],
   "source": [
    "#### After the imputation some column data types are changed. Lets change it back to normal."
   ]
  },
  {
   "cell_type": "code",
   "execution_count": 42,
   "id": "248f384d",
   "metadata": {},
   "outputs": [],
   "source": [
    "data_mice[\"IND\"] = data_mice[\"IND\"].astype(\"int\")\n",
    "data_mice[\"Month\"] = data_mice[\"Month\"].astype(\"int\")\n",
    "data_mice[\"Day\"] = data_mice[\"Day\"].astype(\"int\")\n",
    "data_mice[\"Year\"] = data_mice[\"Year\"].astype(\"int\")"
   ]
  },
  {
   "cell_type": "code",
   "execution_count": 43,
   "id": "4ba37902",
   "metadata": {},
   "outputs": [
    {
     "data": {
      "text/html": [
       "<div>\n",
       "<style scoped>\n",
       "    .dataframe tbody tr th:only-of-type {\n",
       "        vertical-align: middle;\n",
       "    }\n",
       "\n",
       "    .dataframe tbody tr th {\n",
       "        vertical-align: top;\n",
       "    }\n",
       "\n",
       "    .dataframe thead th {\n",
       "        text-align: right;\n",
       "    }\n",
       "</style>\n",
       "<table border=\"1\" class=\"dataframe\">\n",
       "  <thead>\n",
       "    <tr style=\"text-align: right;\">\n",
       "      <th></th>\n",
       "      <th>WIND</th>\n",
       "      <th>IND</th>\n",
       "      <th>RAIN</th>\n",
       "      <th>IND_1</th>\n",
       "      <th>T_MAX</th>\n",
       "      <th>IND_2</th>\n",
       "      <th>T_MIN</th>\n",
       "      <th>T_MIN_G</th>\n",
       "      <th>Day</th>\n",
       "      <th>Month</th>\n",
       "      <th>Year</th>\n",
       "    </tr>\n",
       "  </thead>\n",
       "  <tbody>\n",
       "    <tr>\n",
       "      <th>0</th>\n",
       "      <td>13.67</td>\n",
       "      <td>0</td>\n",
       "      <td>0.2</td>\n",
       "      <td>0.0</td>\n",
       "      <td>9.5</td>\n",
       "      <td>0.0</td>\n",
       "      <td>3.7</td>\n",
       "      <td>-1.0</td>\n",
       "      <td>1</td>\n",
       "      <td>1</td>\n",
       "      <td>1961</td>\n",
       "    </tr>\n",
       "    <tr>\n",
       "      <th>1</th>\n",
       "      <td>11.50</td>\n",
       "      <td>0</td>\n",
       "      <td>5.1</td>\n",
       "      <td>0.0</td>\n",
       "      <td>7.2</td>\n",
       "      <td>0.0</td>\n",
       "      <td>4.2</td>\n",
       "      <td>1.1</td>\n",
       "      <td>2</td>\n",
       "      <td>1</td>\n",
       "      <td>1961</td>\n",
       "    </tr>\n",
       "    <tr>\n",
       "      <th>2</th>\n",
       "      <td>11.25</td>\n",
       "      <td>0</td>\n",
       "      <td>0.4</td>\n",
       "      <td>0.0</td>\n",
       "      <td>5.5</td>\n",
       "      <td>0.0</td>\n",
       "      <td>0.5</td>\n",
       "      <td>-0.5</td>\n",
       "      <td>3</td>\n",
       "      <td>1</td>\n",
       "      <td>1961</td>\n",
       "    </tr>\n",
       "    <tr>\n",
       "      <th>3</th>\n",
       "      <td>8.63</td>\n",
       "      <td>0</td>\n",
       "      <td>0.2</td>\n",
       "      <td>0.0</td>\n",
       "      <td>5.6</td>\n",
       "      <td>0.0</td>\n",
       "      <td>0.4</td>\n",
       "      <td>-3.2</td>\n",
       "      <td>4</td>\n",
       "      <td>1</td>\n",
       "      <td>1961</td>\n",
       "    </tr>\n",
       "    <tr>\n",
       "      <th>4</th>\n",
       "      <td>11.92</td>\n",
       "      <td>0</td>\n",
       "      <td>10.4</td>\n",
       "      <td>0.0</td>\n",
       "      <td>7.2</td>\n",
       "      <td>1.0</td>\n",
       "      <td>-1.5</td>\n",
       "      <td>-7.5</td>\n",
       "      <td>5</td>\n",
       "      <td>1</td>\n",
       "      <td>1961</td>\n",
       "    </tr>\n",
       "  </tbody>\n",
       "</table>\n",
       "</div>"
      ],
      "text/plain": [
       "    WIND  IND  RAIN  IND_1  T_MAX  IND_2  T_MIN  T_MIN_G  Day  Month  Year\n",
       "0  13.67    0   0.2    0.0    9.5    0.0    3.7     -1.0    1      1  1961\n",
       "1  11.50    0   5.1    0.0    7.2    0.0    4.2      1.1    2      1  1961\n",
       "2  11.25    0   0.4    0.0    5.5    0.0    0.5     -0.5    3      1  1961\n",
       "3   8.63    0   0.2    0.0    5.6    0.0    0.4     -3.2    4      1  1961\n",
       "4  11.92    0  10.4    0.0    7.2    1.0   -1.5     -7.5    5      1  1961"
      ]
     },
     "execution_count": 43,
     "metadata": {},
     "output_type": "execute_result"
    }
   ],
   "source": [
    "data_mice.head()"
   ]
  },
  {
   "cell_type": "markdown",
   "id": "2b2f2084",
   "metadata": {},
   "source": [
    "##### Checking outliers"
   ]
  },
  {
   "cell_type": "markdown",
   "id": "03d7c5d6",
   "metadata": {},
   "source": [
    "##### Box plot"
   ]
  },
  {
   "cell_type": "code",
   "execution_count": 44,
   "id": "963c51b3",
   "metadata": {
    "scrolled": false
   },
   "outputs": [
    {
     "data": {
      "image/png": "[encoded data removed]",
      "text/plain": [
       "<Figure size 432x288 with 1 Axes>"
      ]
     },
     "metadata": {
      "needs_background": "light"
     },
     "output_type": "display_data"
    },
    {
     "data": {
      "image/png": "[encoded data removed]",
      "text/plain": [
       "<Figure size 432x288 with 1 Axes>"
      ]
     },
     "metadata": {
      "needs_background": "light"
     },
     "output_type": "display_data"
    },
    {
     "data": {
      "image/png": "[encoded data removed]",
      "text/plain": [
       "<Figure size 432x288 with 1 Axes>"
      ]
     },
     "metadata": {
      "needs_background": "light"
     },
     "output_type": "display_data"
    },
    {
     "data": {
      "image/png": "[encoded data removed]",
      "text/plain": [
       "<Figure size 432x288 with 1 Axes>"
      ]
     },
     "metadata": {
      "needs_background": "light"
     },
     "output_type": "display_data"
    },
    {
     "data": {
      "image/png": "[encoded data removed]",
      "text/plain": [
       "<Figure size 432x288 with 1 Axes>"
      ]
     },
     "metadata": {
      "needs_background": "light"
     },
     "output_type": "display_data"
    },
    {
     "data": {
      "image/png": "[encoded data removed]",
      "text/plain": [
       "<Figure size 432x288 with 1 Axes>"
      ]
     },
     "metadata": {
      "needs_background": "light"
     },
     "output_type": "display_data"
    },
    {
     "data": {
      "image/png": "[encoded data removed]",
      "text/plain": [
       "<Figure size 432x288 with 1 Axes>"
      ]
     },
     "metadata": {
      "needs_background": "light"
     },
     "output_type": "display_data"
    },
    {
     "data": {
      "image/png": "[encoded data removed]",
      "text/plain": [
       "<Figure size 432x288 with 1 Axes>"
      ]
     },
     "metadata": {
      "needs_background": "light"
     },
     "output_type": "display_data"
    },
    {
     "data": {
      "image/png": "[encoded data removed]",
      "text/plain": [
       "<Figure size 432x288 with 1 Axes>"
      ]
     },
     "metadata": {
      "needs_background": "light"
     },
     "output_type": "display_data"
    },
    {
     "data": {
      "image/png": "[encoded data removed]",
      "text/plain": [
       "<Figure size 432x288 with 1 Axes>"
      ]
     },
     "metadata": {
      "needs_background": "light"
     },
     "output_type": "display_data"
    },
    {
     "data": {
      "image/png": "[encoded data removed]",
      "text/plain": [
       "<Figure size 432x288 with 1 Axes>"
      ]
     },
     "metadata": {
      "needs_background": "light"
     },
     "output_type": "display_data"
    }
   ],
   "source": [
    "for i in data_mice.columns:\n",
    "    sns.boxplot(y=data[i])\n",
    "    plt.show();"
   ]
  },
  {
   "cell_type": "code",
   "execution_count": 45,
   "id": "20091fbd",
   "metadata": {},
   "outputs": [],
   "source": [
    "#### Setting the outluer limits "
   ]
  },
  {
   "cell_type": "code",
   "execution_count": 46,
   "id": "7af09af8",
   "metadata": {},
   "outputs": [],
   "source": [
    "def outlier_limt(col):\n",
    "    Q3,Q1 = np.nanpercentile(col, [75,25])\n",
    "    IQR = Q3 - Q1\n",
    "    UL = Q3+1.5*IQR\n",
    "    LL = Q1-1.5*IQR\n",
    "    return UL, LL"
   ]
  },
  {
   "cell_type": "code",
   "execution_count": 47,
   "id": "8a400fc6",
   "metadata": {},
   "outputs": [],
   "source": [
    "for i in data_mice.columns:\n",
    "    UL, LL = outlier_limt(data_mice[i])\n",
    "    data_mice[i] = np.where((data_mice[i]>UL)|(data_mice[i]<LL), np.nan, data[i])"
   ]
  },
  {
   "cell_type": "code",
   "execution_count": 48,
   "id": "55ae07b6",
   "metadata": {},
   "outputs": [
    {
     "data": {
      "text/plain": [
       "WIND         66\n",
       "IND         681\n",
       "RAIN        740\n",
       "IND_1       662\n",
       "T_MAX       621\n",
       "IND_2      1222\n",
       "T_MIN       678\n",
       "T_MIN_G     367\n",
       "Day           0\n",
       "Month         0\n",
       "Year          0\n",
       "dtype: int64"
      ]
     },
     "execution_count": 48,
     "metadata": {},
     "output_type": "execute_result"
    }
   ],
   "source": [
    "data_mice.isnull().sum()"
   ]
  },
  {
   "cell_type": "code",
   "execution_count": 49,
   "id": "dfc2c6a5",
   "metadata": {},
   "outputs": [],
   "source": [
    "data_mice.dropna(inplace=True)"
   ]
  },
  {
   "cell_type": "code",
   "execution_count": 50,
   "id": "d4d066ae",
   "metadata": {
    "scrolled": false
   },
   "outputs": [
    {
     "data": {
      "image/png": "[encoded data removed]",
      "text/plain": [
       "<Figure size 432x288 with 1 Axes>"
      ]
     },
     "metadata": {
      "needs_background": "light"
     },
     "output_type": "display_data"
    },
    {
     "data": {
      "image/png": "[encoded data removed]",
      "text/plain": [
       "<Figure size 432x288 with 1 Axes>"
      ]
     },
     "metadata": {
      "needs_background": "light"
     },
     "output_type": "display_data"
    },
    {
     "data": {
      "image/png": "[encoded data removed]",
      "text/plain": [
       "<Figure size 432x288 with 1 Axes>"
      ]
     },
     "metadata": {
      "needs_background": "light"
     },
     "output_type": "display_data"
    },
    {
     "data": {
      "image/png": "[encoded data removed]",
      "text/plain": [
       "<Figure size 432x288 with 1 Axes>"
      ]
     },
     "metadata": {
      "needs_background": "light"
     },
     "output_type": "display_data"
    },
    {
     "data": {
      "image/png": "[encoded data removed]",
      "text/plain": [
       "<Figure size 432x288 with 1 Axes>"
      ]
     },
     "metadata": {
      "needs_background": "light"
     },
     "output_type": "display_data"
    },
    {
     "data": {
      "image/png": "[encoded data removed]",
      "text/plain": [
       "<Figure size 432x288 with 1 Axes>"
      ]
     },
     "metadata": {
      "needs_background": "light"
     },
     "output_type": "display_data"
    },
    {
     "data": {
      "image/png": "[encoded data removed]",
      "text/plain": [
       "<Figure size 432x288 with 1 Axes>"
      ]
     },
     "metadata": {
      "needs_background": "light"
     },
     "output_type": "display_data"
    },
    {
     "data": {
      "image/png": "[encoded data removed]",
      "text/plain": [
       "<Figure size 432x288 with 1 Axes>"
      ]
     },
     "metadata": {
      "needs_background": "light"
     },
     "output_type": "display_data"
    },
    {
     "data": {
      "image/png": "[encoded data removed]",
      "text/plain": [
       "<Figure size 432x288 with 1 Axes>"
      ]
     },
     "metadata": {
      "needs_background": "light"
     },
     "output_type": "display_data"
    },
    {
     "data": {
      "image/png": "[encoded data removed]",
      "text/plain": [
       "<Figure size 432x288 with 1 Axes>"
      ]
     },
     "metadata": {
      "needs_background": "light"
     },
     "output_type": "display_data"
    },
    {
     "data": {
      "image/png": "[encoded data removed]",
      "text/plain": [
       "<Figure size 432x288 with 1 Axes>"
      ]
     },
     "metadata": {
      "needs_background": "light"
     },
     "output_type": "display_data"
    }
   ],
   "source": [
    "for i in data_mice.columns:\n",
    "    sns.boxplot(y=data_mice[i], color=\"Red\")\n",
    "    plt.show();"
   ]
  },
  {
   "cell_type": "code",
   "execution_count": 51,
   "id": "13f330f4",
   "metadata": {},
   "outputs": [
    {
     "data": {
      "text/plain": [
       "(3979, 11)"
      ]
     },
     "execution_count": 51,
     "metadata": {},
     "output_type": "execute_result"
    }
   ],
   "source": [
    "data_mice.shape"
   ]
  },
  {
   "cell_type": "code",
   "execution_count": 52,
   "id": "ef672f18",
   "metadata": {},
   "outputs": [
    {
     "data": {
      "text/plain": [
       "(6574, 11)"
      ]
     },
     "execution_count": 52,
     "metadata": {},
     "output_type": "execute_result"
    }
   ],
   "source": [
    "data.shape"
   ]
  },
  {
   "cell_type": "markdown",
   "id": "aa1ae336",
   "metadata": {},
   "source": [
    "#### Histogram"
   ]
  },
  {
   "cell_type": "code",
   "execution_count": 53,
   "id": "e469887f",
   "metadata": {
    "scrolled": true
   },
   "outputs": [
    {
     "data": {
      "image/png": "[encoded data removed]",
      "text/plain": [
       "<Figure size 1296x864 with 12 Axes>"
      ]
     },
     "metadata": {
      "needs_background": "light"
     },
     "output_type": "display_data"
    }
   ],
   "source": [
    "data_mice.hist(figsize=(18,12));"
   ]
  },
  {
   "cell_type": "markdown",
   "id": "8584cf65",
   "metadata": {},
   "source": [
    "#### Correlation matrix"
   ]
  },
  {
   "cell_type": "code",
   "execution_count": 54,
   "id": "1d01e78a",
   "metadata": {},
   "outputs": [
    {
     "data": {
      "text/plain": [
       "<AxesSubplot:>"
      ]
     },
     "execution_count": 54,
     "metadata": {},
     "output_type": "execute_result"
    },
    {
     "data": {
      "image/png": "[encoded data removed]",
      "text/plain": [
       "<Figure size 432x288 with 2 Axes>"
      ]
     },
     "metadata": {
      "needs_background": "light"
     },
     "output_type": "display_data"
    }
   ],
   "source": [
    "sns.heatmap(data_mice.corr()[[\"WIND\"]].sort_values(by=\"WIND\", ascending=False), vmax=1, vmin=-1, annot=True, cmap=\"Accent\")"
   ]
  },
  {
   "cell_type": "markdown",
   "id": "e1d6e2fc",
   "metadata": {},
   "source": [
    "#### We can see that only RAIN is  are positively correlated to WIND"
   ]
  },
  {
   "cell_type": "markdown",
   "id": "16e95c11",
   "metadata": {},
   "source": [
    "#### Features into x and y"
   ]
  },
  {
   "cell_type": "code",
   "execution_count": 55,
   "id": "ec63b139",
   "metadata": {},
   "outputs": [],
   "source": [
    "x = data_mice.drop([\"WIND\"], axis=1).values\n",
    "y = data_mice[\"WIND\"].values"
   ]
  },
  {
   "cell_type": "markdown",
   "id": "4a7e347e",
   "metadata": {},
   "source": [
    "#### Scaling the data"
   ]
  },
  {
   "cell_type": "code",
   "execution_count": 56,
   "id": "45329dc1",
   "metadata": {},
   "outputs": [],
   "source": [
    "sc = StandardScaler()"
   ]
  },
  {
   "cell_type": "code",
   "execution_count": 57,
   "id": "38bc00bb",
   "metadata": {},
   "outputs": [],
   "source": [
    "x = sc.fit_transform(x)"
   ]
  },
  {
   "cell_type": "markdown",
   "id": "27d46766",
   "metadata": {},
   "source": [
    "#### Splitting into training and testing "
   ]
  },
  {
   "cell_type": "code",
   "execution_count": 58,
   "id": "11821e81",
   "metadata": {},
   "outputs": [],
   "source": [
    "x_train, x_test, y_train, y_test = train_test_split(x, y, test_size=0.2, random_state=0)"
   ]
  },
  {
   "cell_type": "markdown",
   "id": "3145583d",
   "metadata": {},
   "source": [
    "#### Model building"
   ]
  },
  {
   "cell_type": "code",
   "execution_count": 59,
   "id": "06681616",
   "metadata": {},
   "outputs": [],
   "source": [
    "models = {\n",
    "    \"LinearRegression\": LinearRegression(),\n",
    "    \"Ridge\":Ridge(),\n",
    "    \"LinearSVR\":LinearSVR(),\n",
    "    \"DecisionTreeRegressor\":DecisionTreeRegressor(),\n",
    "    \"GradientBoostingRegressor\":GradientBoostingRegressor(),\n",
    "    \"AdaBoostRegressor\":AdaBoostRegressor(),\n",
    "    \"RandomForestRegressor\":RandomForestRegressor(random_state=0),\n",
    "}"
   ]
  },
  {
   "cell_type": "code",
   "execution_count": 60,
   "id": "d2b62382",
   "metadata": {},
   "outputs": [
    {
     "name": "stdout",
     "output_type": "stream",
     "text": [
      "model trained with LinearRegression\n",
      "r2score:  14.048928465628075\n",
      "training_score:  14.578886305432825\n",
      "testing_score:  14.048928465628075\n",
      "mae:  3.493303647556664\n",
      "mse:  18.854434148885552\n",
      "rmse_test:  4.34216929067552\n",
      "****************************************************************************************************\n",
      "model trained with Ridge\n",
      "r2score:  14.049341506281909\n",
      "training_score:  14.578881344572302\n",
      "testing_score:  14.049341506281909\n",
      "mae:  3.493342471939071\n",
      "mse:  18.854343543292515\n",
      "rmse_test:  4.342158857445512\n",
      "****************************************************************************************************\n",
      "model trained with LinearSVR\n",
      "r2score:  13.017139633736152\n",
      "training_score:  13.69916010028045\n",
      "testing_score:  13.017139633736152\n",
      "mae:  3.4753017173834335\n",
      "mse:  19.080769833120534\n",
      "rmse_test:  4.36815405327245\n",
      "****************************************************************************************************\n",
      "model trained with DecisionTreeRegressor\n",
      "r2score:  -62.20975690620549\n",
      "training_score:  100.0\n",
      "testing_score:  -62.20975690620549\n",
      "mae:  4.661256281407034\n",
      "mse:  35.58272311557789\n",
      "rmse_test:  5.965125574166724\n",
      "****************************************************************************************************\n",
      "model trained with GradientBoostingRegressor\n",
      "r2score:  29.709996519754945\n",
      "training_score:  37.82677911541086\n",
      "testing_score:  29.709996519754945\n",
      "mae:  3.107194266764357\n",
      "mse:  15.418984525553428\n",
      "rmse_test:  3.926701481594116\n",
      "****************************************************************************************************\n",
      "model trained with AdaBoostRegressor\n",
      "r2score:  21.010747670044726\n",
      "training_score:  21.33985106903763\n",
      "testing_score:  21.010747670044726\n",
      "mae:  3.3788543512953773\n",
      "mse:  17.32727271386343\n",
      "rmse_test:  4.162604078442175\n",
      "****************************************************************************************************\n",
      "model trained with RandomForestRegressor\n",
      "r2score:  26.76727834078362\n",
      "training_score:  89.16273558994281\n",
      "testing_score:  26.76727834078362\n",
      "mae:  3.1725291457286433\n",
      "mse:  16.06450627570352\n",
      "rmse_test:  4.008055173734952\n",
      "****************************************************************************************************\n"
     ]
    }
   ],
   "source": [
    "for name, model in models.items():\n",
    "    model.fit(x_train, y_train)\n",
    "    print(\"model trained with {}\".format(name))\n",
    "    training_score = model.score(x_train, y_train)*100\n",
    "    testing_score = model.score(x_test, y_test)*100\n",
    "    score = r2_score(y_test, model.predict(x_test))*100\n",
    "    mae = mean_absolute_error(y_test, model.predict(x_test))\n",
    "    mse = mean_squared_error(y_test, model.predict(x_test))\n",
    "    rmse = np.sqrt(mse)\n",
    "    print(\"r2score: \",score)\n",
    "    print(\"training_score: \", training_score)\n",
    "    print(\"testing_score: \", testing_score)\n",
    "    print(\"mae: \", mae)\n",
    "    print(\"mse: \", mse)\n",
    "    print(\"rmse_test: \", rmse)\n",
    "    print(\"*\"*100)"
   ]
  },
  {
   "cell_type": "markdown",
   "id": "4c7c7666",
   "metadata": {},
   "source": [
    "##### GradientBoostingRegressor is having the best perfomance. Lets use it to predict wind speed."
   ]
  },
  {
   "cell_type": "code",
   "execution_count": 61,
   "id": "b3cc5f1c",
   "metadata": {},
   "outputs": [],
   "source": [
    "GBR = GradientBoostingRegressor(random_state=0)"
   ]
  },
  {
   "cell_type": "code",
   "execution_count": 62,
   "id": "ec05f9b5",
   "metadata": {},
   "outputs": [
    {
     "data": {
      "text/plain": [
       "GradientBoostingRegressor(random_state=0)"
      ]
     },
     "execution_count": 62,
     "metadata": {},
     "output_type": "execute_result"
    }
   ],
   "source": [
    "GBR.fit(x_train, y_train)"
   ]
  },
  {
   "cell_type": "code",
   "execution_count": 63,
   "id": "c52bafad",
   "metadata": {},
   "outputs": [],
   "source": [
    "y_pred = GBR.predict(x_test)"
   ]
  },
  {
   "cell_type": "code",
   "execution_count": 64,
   "id": "def82bb7",
   "metadata": {},
   "outputs": [
    {
     "data": {
      "text/html": [
       "<div>\n",
       "<style scoped>\n",
       "    .dataframe tbody tr th:only-of-type {\n",
       "        vertical-align: middle;\n",
       "    }\n",
       "\n",
       "    .dataframe tbody tr th {\n",
       "        vertical-align: top;\n",
       "    }\n",
       "\n",
       "    .dataframe thead th {\n",
       "        text-align: right;\n",
       "    }\n",
       "</style>\n",
       "<table border=\"1\" class=\"dataframe\">\n",
       "  <thead>\n",
       "    <tr style=\"text-align: right;\">\n",
       "      <th></th>\n",
       "      <th>ACTUAL</th>\n",
       "      <th>PREDICTED</th>\n",
       "    </tr>\n",
       "  </thead>\n",
       "  <tbody>\n",
       "    <tr>\n",
       "      <th>0</th>\n",
       "      <td>13.67</td>\n",
       "      <td>7.923410</td>\n",
       "    </tr>\n",
       "    <tr>\n",
       "      <th>1</th>\n",
       "      <td>11.25</td>\n",
       "      <td>8.933925</td>\n",
       "    </tr>\n",
       "    <tr>\n",
       "      <th>2</th>\n",
       "      <td>8.63</td>\n",
       "      <td>10.024095</td>\n",
       "    </tr>\n",
       "    <tr>\n",
       "      <th>3</th>\n",
       "      <td>10.67</td>\n",
       "      <td>9.854089</td>\n",
       "    </tr>\n",
       "    <tr>\n",
       "      <th>4</th>\n",
       "      <td>14.29</td>\n",
       "      <td>9.910549</td>\n",
       "    </tr>\n",
       "  </tbody>\n",
       "</table>\n",
       "</div>"
      ],
      "text/plain": [
       "   ACTUAL  PREDICTED\n",
       "0   13.67   7.923410\n",
       "1   11.25   8.933925\n",
       "2    8.63  10.024095\n",
       "3   10.67   9.854089\n",
       "4   14.29   9.910549"
      ]
     },
     "execution_count": 64,
     "metadata": {},
     "output_type": "execute_result"
    }
   ],
   "source": [
    "OUTPUT = pd.DataFrame(zip(y,y_pred), columns=(\"ACTUAL\", \"PREDICTED\"))\n",
    "OUTPUT.head()"
   ]
  }
 ],
 "metadata": {
  "kernelspec": {
   "display_name": "Python 3 (ipykernel)",
   "language": "python",
   "name": "python3"
  },
  "language_info": {
   "codemirror_mode": {
    "name": "ipython",
    "version": 3
   },
   "file_extension": ".py",
   "mimetype": "text/x-python",
   "name": "python",
   "nbconvert_exporter": "python",
   "pygments_lexer": "ipython3",
   "version": "3.9.7"
  }
 },
 "nbformat": 4,
 "nbformat_minor": 5
}
