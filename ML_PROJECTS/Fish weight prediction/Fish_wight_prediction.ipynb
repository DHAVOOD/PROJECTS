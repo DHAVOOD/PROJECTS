{
 "cells": [
  {
   "cell_type": "markdown",
   "id": "d9705610",
   "metadata": {},
   "source": [
    "## Fish weight  prediction"
   ]
  },
  {
   "cell_type": "markdown",
   "id": "f9182a16",
   "metadata": {},
   "source": [
    "#### This is a regression problem in which, we will try to predict Fish weight."
   ]
  },
  {
   "cell_type": "markdown",
   "id": "e19c88b5",
   "metadata": {},
   "source": [
    "#### https://www.kaggle.com/code/nitinchoudhary012/fish-weight-prediction/data"
   ]
  },
  {
   "cell_type": "markdown",
   "id": "7e605812",
   "metadata": {},
   "source": [
    "##### Attribute information\n",
    "\n",
    "Species: species name of fish\n",
    "\n",
    "Weight: weight of fish in Gram g\n",
    "\n",
    "Length1:vertical length in cm\n",
    "\n",
    "Length2:diagonal length in cm\n",
    "\n",
    "Length3:cross length in cm\n",
    "\n",
    "Height:height in cm\n",
    "\n",
    "Width:diagonal width in cm"
   ]
  },
  {
   "cell_type": "markdown",
   "id": "df1ef414",
   "metadata": {},
   "source": [
    "##### Loading the dependencies"
   ]
  },
  {
   "cell_type": "code",
   "execution_count": 1,
   "id": "b506994f",
   "metadata": {},
   "outputs": [],
   "source": [
    "import pandas as pd\n",
    "import numpy as np\n",
    "import matplotlib.pyplot as plt\n",
    "import seaborn as sns\n",
    "import warnings\n",
    "warnings.filterwarnings(\"ignore\")\n",
    "from sklearn.metrics import r2_score,mean_absolute_error, mean_squared_error\n",
    "from sklearn.preprocessing import LabelEncoder, StandardScaler\n",
    "from sklearn.model_selection import train_test_split,RandomizedSearchCV, GridSearchCV\n",
    "from sklearn.linear_model import LinearRegression,Ridge\n",
    "from sklearn.tree import DecisionTreeRegressor\n",
    "from sklearn.ensemble import GradientBoostingRegressor, RandomForestRegressor,AdaBoostRegressor\n",
    "from sklearn.svm import LinearSVR\n",
    "from fancyimpute import IterativeImputer"
   ]
  },
  {
   "cell_type": "code",
   "execution_count": 2,
   "id": "9c2a5786",
   "metadata": {},
   "outputs": [
    {
     "data": {
      "text/html": [
       "<div>\n",
       "<style scoped>\n",
       "    .dataframe tbody tr th:only-of-type {\n",
       "        vertical-align: middle;\n",
       "    }\n",
       "\n",
       "    .dataframe tbody tr th {\n",
       "        vertical-align: top;\n",
       "    }\n",
       "\n",
       "    .dataframe thead th {\n",
       "        text-align: right;\n",
       "    }\n",
       "</style>\n",
       "<table border=\"1\" class=\"dataframe\">\n",
       "  <thead>\n",
       "    <tr style=\"text-align: right;\">\n",
       "      <th></th>\n",
       "      <th>Species</th>\n",
       "      <th>Weight</th>\n",
       "      <th>Length1</th>\n",
       "      <th>Length2</th>\n",
       "      <th>Length3</th>\n",
       "      <th>Height</th>\n",
       "      <th>Width</th>\n",
       "    </tr>\n",
       "  </thead>\n",
       "  <tbody>\n",
       "    <tr>\n",
       "      <th>0</th>\n",
       "      <td>Bream</td>\n",
       "      <td>242.0</td>\n",
       "      <td>23.2</td>\n",
       "      <td>25.4</td>\n",
       "      <td>30.0</td>\n",
       "      <td>11.5200</td>\n",
       "      <td>4.0200</td>\n",
       "    </tr>\n",
       "    <tr>\n",
       "      <th>1</th>\n",
       "      <td>Bream</td>\n",
       "      <td>290.0</td>\n",
       "      <td>24.0</td>\n",
       "      <td>26.3</td>\n",
       "      <td>31.2</td>\n",
       "      <td>12.4800</td>\n",
       "      <td>4.3056</td>\n",
       "    </tr>\n",
       "    <tr>\n",
       "      <th>2</th>\n",
       "      <td>Bream</td>\n",
       "      <td>340.0</td>\n",
       "      <td>23.9</td>\n",
       "      <td>26.5</td>\n",
       "      <td>31.1</td>\n",
       "      <td>12.3778</td>\n",
       "      <td>4.6961</td>\n",
       "    </tr>\n",
       "    <tr>\n",
       "      <th>3</th>\n",
       "      <td>Bream</td>\n",
       "      <td>363.0</td>\n",
       "      <td>26.3</td>\n",
       "      <td>29.0</td>\n",
       "      <td>33.5</td>\n",
       "      <td>12.7300</td>\n",
       "      <td>4.4555</td>\n",
       "    </tr>\n",
       "    <tr>\n",
       "      <th>4</th>\n",
       "      <td>Bream</td>\n",
       "      <td>430.0</td>\n",
       "      <td>26.5</td>\n",
       "      <td>29.0</td>\n",
       "      <td>34.0</td>\n",
       "      <td>12.4440</td>\n",
       "      <td>5.1340</td>\n",
       "    </tr>\n",
       "  </tbody>\n",
       "</table>\n",
       "</div>"
      ],
      "text/plain": [
       "  Species  Weight  Length1  Length2  Length3   Height   Width\n",
       "0   Bream   242.0     23.2     25.4     30.0  11.5200  4.0200\n",
       "1   Bream   290.0     24.0     26.3     31.2  12.4800  4.3056\n",
       "2   Bream   340.0     23.9     26.5     31.1  12.3778  4.6961\n",
       "3   Bream   363.0     26.3     29.0     33.5  12.7300  4.4555\n",
       "4   Bream   430.0     26.5     29.0     34.0  12.4440  5.1340"
      ]
     },
     "execution_count": 2,
     "metadata": {},
     "output_type": "execute_result"
    }
   ],
   "source": [
    "data = pd.read_csv(\"Fish.csv\")\n",
    "data.head()"
   ]
  },
  {
   "cell_type": "code",
   "execution_count": 3,
   "id": "7d9001d0",
   "metadata": {},
   "outputs": [
    {
     "name": "stdout",
     "output_type": "stream",
     "text": [
      "<class 'pandas.core.frame.DataFrame'>\n",
      "RangeIndex: 159 entries, 0 to 158\n",
      "Data columns (total 7 columns):\n",
      " #   Column   Non-Null Count  Dtype  \n",
      "---  ------   --------------  -----  \n",
      " 0   Species  159 non-null    object \n",
      " 1   Weight   159 non-null    float64\n",
      " 2   Length1  159 non-null    float64\n",
      " 3   Length2  159 non-null    float64\n",
      " 4   Length3  159 non-null    float64\n",
      " 5   Height   159 non-null    float64\n",
      " 6   Width    159 non-null    float64\n",
      "dtypes: float64(6), object(1)\n",
      "memory usage: 8.8+ KB\n"
     ]
    }
   ],
   "source": [
    "data.info()"
   ]
  },
  {
   "cell_type": "code",
   "execution_count": 4,
   "id": "6994668d",
   "metadata": {},
   "outputs": [
    {
     "data": {
      "text/html": [
       "<div>\n",
       "<style scoped>\n",
       "    .dataframe tbody tr th:only-of-type {\n",
       "        vertical-align: middle;\n",
       "    }\n",
       "\n",
       "    .dataframe tbody tr th {\n",
       "        vertical-align: top;\n",
       "    }\n",
       "\n",
       "    .dataframe thead th {\n",
       "        text-align: right;\n",
       "    }\n",
       "</style>\n",
       "<table border=\"1\" class=\"dataframe\">\n",
       "  <thead>\n",
       "    <tr style=\"text-align: right;\">\n",
       "      <th></th>\n",
       "      <th>count</th>\n",
       "      <th>mean</th>\n",
       "      <th>std</th>\n",
       "      <th>min</th>\n",
       "      <th>25%</th>\n",
       "      <th>50%</th>\n",
       "      <th>75%</th>\n",
       "      <th>max</th>\n",
       "    </tr>\n",
       "  </thead>\n",
       "  <tbody>\n",
       "    <tr>\n",
       "      <th>Weight</th>\n",
       "      <td>159.0</td>\n",
       "      <td>398.326415</td>\n",
       "      <td>357.978317</td>\n",
       "      <td>0.0000</td>\n",
       "      <td>120.00000</td>\n",
       "      <td>273.0000</td>\n",
       "      <td>650.0000</td>\n",
       "      <td>1650.000</td>\n",
       "    </tr>\n",
       "    <tr>\n",
       "      <th>Length1</th>\n",
       "      <td>159.0</td>\n",
       "      <td>26.247170</td>\n",
       "      <td>9.996441</td>\n",
       "      <td>7.5000</td>\n",
       "      <td>19.05000</td>\n",
       "      <td>25.2000</td>\n",
       "      <td>32.7000</td>\n",
       "      <td>59.000</td>\n",
       "    </tr>\n",
       "    <tr>\n",
       "      <th>Length2</th>\n",
       "      <td>159.0</td>\n",
       "      <td>28.415723</td>\n",
       "      <td>10.716328</td>\n",
       "      <td>8.4000</td>\n",
       "      <td>21.00000</td>\n",
       "      <td>27.3000</td>\n",
       "      <td>35.5000</td>\n",
       "      <td>63.400</td>\n",
       "    </tr>\n",
       "    <tr>\n",
       "      <th>Length3</th>\n",
       "      <td>159.0</td>\n",
       "      <td>31.227044</td>\n",
       "      <td>11.610246</td>\n",
       "      <td>8.8000</td>\n",
       "      <td>23.15000</td>\n",
       "      <td>29.4000</td>\n",
       "      <td>39.6500</td>\n",
       "      <td>68.000</td>\n",
       "    </tr>\n",
       "    <tr>\n",
       "      <th>Height</th>\n",
       "      <td>159.0</td>\n",
       "      <td>8.970994</td>\n",
       "      <td>4.286208</td>\n",
       "      <td>1.7284</td>\n",
       "      <td>5.94480</td>\n",
       "      <td>7.7860</td>\n",
       "      <td>12.3659</td>\n",
       "      <td>18.957</td>\n",
       "    </tr>\n",
       "    <tr>\n",
       "      <th>Width</th>\n",
       "      <td>159.0</td>\n",
       "      <td>4.417486</td>\n",
       "      <td>1.685804</td>\n",
       "      <td>1.0476</td>\n",
       "      <td>3.38565</td>\n",
       "      <td>4.2485</td>\n",
       "      <td>5.5845</td>\n",
       "      <td>8.142</td>\n",
       "    </tr>\n",
       "  </tbody>\n",
       "</table>\n",
       "</div>"
      ],
      "text/plain": [
       "         count        mean         std     min        25%       50%       75%  \\\n",
       "Weight   159.0  398.326415  357.978317  0.0000  120.00000  273.0000  650.0000   \n",
       "Length1  159.0   26.247170    9.996441  7.5000   19.05000   25.2000   32.7000   \n",
       "Length2  159.0   28.415723   10.716328  8.4000   21.00000   27.3000   35.5000   \n",
       "Length3  159.0   31.227044   11.610246  8.8000   23.15000   29.4000   39.6500   \n",
       "Height   159.0    8.970994    4.286208  1.7284    5.94480    7.7860   12.3659   \n",
       "Width    159.0    4.417486    1.685804  1.0476    3.38565    4.2485    5.5845   \n",
       "\n",
       "              max  \n",
       "Weight   1650.000  \n",
       "Length1    59.000  \n",
       "Length2    63.400  \n",
       "Length3    68.000  \n",
       "Height     18.957  \n",
       "Width       8.142  "
      ]
     },
     "execution_count": 4,
     "metadata": {},
     "output_type": "execute_result"
    }
   ],
   "source": [
    "data.describe().T"
   ]
  },
  {
   "cell_type": "code",
   "execution_count": 5,
   "id": "0ec95a10",
   "metadata": {},
   "outputs": [
    {
     "data": {
      "text/plain": [
       "(159, 7)"
      ]
     },
     "execution_count": 5,
     "metadata": {},
     "output_type": "execute_result"
    }
   ],
   "source": [
    "data.shape"
   ]
  },
  {
   "cell_type": "markdown",
   "id": "9b8fc2f5",
   "metadata": {},
   "source": [
    "##### Check for null values"
   ]
  },
  {
   "cell_type": "code",
   "execution_count": 6,
   "id": "aa975c97",
   "metadata": {},
   "outputs": [
    {
     "data": {
      "text/plain": [
       "Species    0\n",
       "Weight     0\n",
       "Length1    0\n",
       "Length2    0\n",
       "Length3    0\n",
       "Height     0\n",
       "Width      0\n",
       "dtype: int64"
      ]
     },
     "execution_count": 6,
     "metadata": {},
     "output_type": "execute_result"
    }
   ],
   "source": [
    "data.isnull().sum()"
   ]
  },
  {
   "cell_type": "markdown",
   "id": "5735ebde",
   "metadata": {},
   "source": [
    "##### No null values"
   ]
  },
  {
   "cell_type": "markdown",
   "id": "022e1f51",
   "metadata": {},
   "source": [
    "##### Outlier treatment"
   ]
  },
  {
   "cell_type": "markdown",
   "id": "f133cf6b",
   "metadata": {},
   "source": [
    "##### Box plots"
   ]
  },
  {
   "cell_type": "code",
   "execution_count": 7,
   "id": "e9bb5666",
   "metadata": {
    "scrolled": false
   },
   "outputs": [
    {
     "data": {
      "image/png": "[encoded data removed]",
      "text/plain": [
       "<Figure size 432x288 with 1 Axes>"
      ]
     },
     "metadata": {
      "needs_background": "light"
     },
     "output_type": "display_data"
    },
    {
     "data": {
      "image/png": "[encoded data removed]",
      "text/plain": [
       "<Figure size 432x288 with 1 Axes>"
      ]
     },
     "metadata": {
      "needs_background": "light"
     },
     "output_type": "display_data"
    },
    {
     "data": {
      "image/png": "[encoded data removed]",
      "text/plain": [
       "<Figure size 432x288 with 1 Axes>"
      ]
     },
     "metadata": {
      "needs_background": "light"
     },
     "output_type": "display_data"
    },
    {
     "data": {
      "image/png": "[encoded data removed]",
      "text/plain": [
       "<Figure size 432x288 with 1 Axes>"
      ]
     },
     "metadata": {
      "needs_background": "light"
     },
     "output_type": "display_data"
    },
    {
     "data": {
      "image/png": "[encoded data removed]",
      "text/plain": [
       "<Figure size 432x288 with 1 Axes>"
      ]
     },
     "metadata": {
      "needs_background": "light"
     },
     "output_type": "display_data"
    },
    {
     "data": {
      "image/png": "[encoded data removed]",
      "text/plain": [
       "<Figure size 432x288 with 1 Axes>"
      ]
     },
     "metadata": {
      "needs_background": "light"
     },
     "output_type": "display_data"
    }
   ],
   "source": [
    "for i in data.columns:\n",
    "    if data[i].dtype!= \"object\":\n",
    "        sns.boxplot(y=data[i])\n",
    "        plt.show()"
   ]
  },
  {
   "cell_type": "markdown",
   "id": "c1db7f1f",
   "metadata": {},
   "source": [
    "##### Setting outlier limits"
   ]
  },
  {
   "cell_type": "code",
   "execution_count": 8,
   "id": "5d9b0b9c",
   "metadata": {},
   "outputs": [],
   "source": [
    "def outlier_limit(col):\n",
    "    Q3, Q1 = np.nanpercentile (col, [75,25])\n",
    "    IQR = Q3 - Q1\n",
    "    UL = Q3+1.5*IQR\n",
    "    LL = Q1-1.5*Q1\n",
    "    return UL, LL"
   ]
  },
  {
   "cell_type": "code",
   "execution_count": 9,
   "id": "8fc49054",
   "metadata": {},
   "outputs": [],
   "source": [
    "for column in data.columns:\n",
    "    if data[column].dtype != \"object\":\n",
    "        UL, LL = outlier_limit(data[column])\n",
    "        data[column] = np.where((data[column]>UL) | (data[column]<LL),np.nan,data[column])"
   ]
  },
  {
   "cell_type": "code",
   "execution_count": 10,
   "id": "ea281a45",
   "metadata": {},
   "outputs": [
    {
     "data": {
      "image/png": "[encoded data removed]",
      "text/plain": [
       "<Figure size 432x288 with 1 Axes>"
      ]
     },
     "metadata": {
      "needs_background": "light"
     },
     "output_type": "display_data"
    },
    {
     "data": {
      "image/png": "[encoded data removed]",
      "text/plain": [
       "<Figure size 432x288 with 1 Axes>"
      ]
     },
     "metadata": {
      "needs_background": "light"
     },
     "output_type": "display_data"
    },
    {
     "data": {
      "image/png": "[encoded data removed]",
      "text/plain": [
       "<Figure size 432x288 with 1 Axes>"
      ]
     },
     "metadata": {
      "needs_background": "light"
     },
     "output_type": "display_data"
    },
    {
     "data": {
      "image/png": "[encoded data removed]",
      "text/plain": [
       "<Figure size 432x288 with 1 Axes>"
      ]
     },
     "metadata": {
      "needs_background": "light"
     },
     "output_type": "display_data"
    },
    {
     "data": {
      "image/png": "[encoded data removed]",
      "text/plain": [
       "<Figure size 432x288 with 1 Axes>"
      ]
     },
     "metadata": {
      "needs_background": "light"
     },
     "output_type": "display_data"
    },
    {
     "data": {
      "image/png": "[encoded data removed]",
      "text/plain": [
       "<Figure size 432x288 with 1 Axes>"
      ]
     },
     "metadata": {
      "needs_background": "light"
     },
     "output_type": "display_data"
    }
   ],
   "source": [
    "for i in data.columns:\n",
    "    if data[i].dtype!= \"object\":\n",
    "        sns.boxplot(y=data[i], color=\"Green\")\n",
    "        plt.show()"
   ]
  },
  {
   "cell_type": "markdown",
   "id": "56905404",
   "metadata": {},
   "source": [
    "#### We have treated the outliers. Lets drop the nan values now."
   ]
  },
  {
   "cell_type": "code",
   "execution_count": 11,
   "id": "93909ca0",
   "metadata": {},
   "outputs": [],
   "source": [
    "data.dropna(inplace=True)"
   ]
  },
  {
   "cell_type": "markdown",
   "id": "05ddabad",
   "metadata": {},
   "source": [
    "##### Check for duplicated data"
   ]
  },
  {
   "cell_type": "code",
   "execution_count": 12,
   "id": "db7513b9",
   "metadata": {},
   "outputs": [
    {
     "data": {
      "text/plain": [
       "0"
      ]
     },
     "execution_count": 12,
     "metadata": {},
     "output_type": "execute_result"
    }
   ],
   "source": [
    "data.duplicated().sum()"
   ]
  },
  {
   "cell_type": "markdown",
   "id": "82bb14a7",
   "metadata": {},
   "source": [
    "##### No duplicate entries"
   ]
  },
  {
   "cell_type": "markdown",
   "id": "e75c02b2",
   "metadata": {},
   "source": [
    "##### Correlation matrix"
   ]
  },
  {
   "cell_type": "code",
   "execution_count": 13,
   "id": "37bc4fd6",
   "metadata": {},
   "outputs": [
    {
     "data": {
      "image/png": "[encoded data removed]",
      "text/plain": [
       "<Figure size 144x504 with 2 Axes>"
      ]
     },
     "metadata": {
      "needs_background": "light"
     },
     "output_type": "display_data"
    }
   ],
   "source": [
    "plt.figure(figsize=(2, 7))\n",
    "heatmap = sns.heatmap(data.corr()[['Weight']].sort_values(by='Weight', ascending=False), vmin=-1, vmax=1, annot=True, cmap='Reds')"
   ]
  },
  {
   "cell_type": "markdown",
   "id": "0e497698",
   "metadata": {},
   "source": [
    "#### All the variables are highly correlated with the target variable."
   ]
  },
  {
   "cell_type": "markdown",
   "id": "07c0e12f",
   "metadata": {},
   "source": [
    "##### Label encoding categorical column \"Spiecies\""
   ]
  },
  {
   "cell_type": "code",
   "execution_count": 14,
   "id": "c745b7ea",
   "metadata": {},
   "outputs": [
    {
     "data": {
      "text/plain": [
       "Perch        56\n",
       "Bream        35\n",
       "Roach        20\n",
       "Pike         14\n",
       "Smelt        14\n",
       "Parkki       11\n",
       "Whitefish     6\n",
       "Name: Species, dtype: int64"
      ]
     },
     "execution_count": 14,
     "metadata": {},
     "output_type": "execute_result"
    }
   ],
   "source": [
    "data.Species.value_counts()"
   ]
  },
  {
   "cell_type": "code",
   "execution_count": 15,
   "id": "5f41db76",
   "metadata": {},
   "outputs": [],
   "source": [
    "data.replace({\"Perch\":7,\"Bream\":6,\"Roach\":5,\"Pike\":4,\"Smelt\":3,\"Parkki\":2,\"Whitefish\":1}, inplace=True)"
   ]
  },
  {
   "cell_type": "code",
   "execution_count": 16,
   "id": "e09b081b",
   "metadata": {},
   "outputs": [
    {
     "data": {
      "text/html": [
       "<div>\n",
       "<style scoped>\n",
       "    .dataframe tbody tr th:only-of-type {\n",
       "        vertical-align: middle;\n",
       "    }\n",
       "\n",
       "    .dataframe tbody tr th {\n",
       "        vertical-align: top;\n",
       "    }\n",
       "\n",
       "    .dataframe thead th {\n",
       "        text-align: right;\n",
       "    }\n",
       "</style>\n",
       "<table border=\"1\" class=\"dataframe\">\n",
       "  <thead>\n",
       "    <tr style=\"text-align: right;\">\n",
       "      <th></th>\n",
       "      <th>Species</th>\n",
       "      <th>Weight</th>\n",
       "      <th>Length1</th>\n",
       "      <th>Length2</th>\n",
       "      <th>Length3</th>\n",
       "      <th>Height</th>\n",
       "      <th>Width</th>\n",
       "    </tr>\n",
       "  </thead>\n",
       "  <tbody>\n",
       "    <tr>\n",
       "      <th>0</th>\n",
       "      <td>6</td>\n",
       "      <td>242.0</td>\n",
       "      <td>23.2</td>\n",
       "      <td>25.4</td>\n",
       "      <td>30.0</td>\n",
       "      <td>11.5200</td>\n",
       "      <td>4.0200</td>\n",
       "    </tr>\n",
       "    <tr>\n",
       "      <th>1</th>\n",
       "      <td>6</td>\n",
       "      <td>290.0</td>\n",
       "      <td>24.0</td>\n",
       "      <td>26.3</td>\n",
       "      <td>31.2</td>\n",
       "      <td>12.4800</td>\n",
       "      <td>4.3056</td>\n",
       "    </tr>\n",
       "    <tr>\n",
       "      <th>2</th>\n",
       "      <td>6</td>\n",
       "      <td>340.0</td>\n",
       "      <td>23.9</td>\n",
       "      <td>26.5</td>\n",
       "      <td>31.1</td>\n",
       "      <td>12.3778</td>\n",
       "      <td>4.6961</td>\n",
       "    </tr>\n",
       "    <tr>\n",
       "      <th>3</th>\n",
       "      <td>6</td>\n",
       "      <td>363.0</td>\n",
       "      <td>26.3</td>\n",
       "      <td>29.0</td>\n",
       "      <td>33.5</td>\n",
       "      <td>12.7300</td>\n",
       "      <td>4.4555</td>\n",
       "    </tr>\n",
       "    <tr>\n",
       "      <th>4</th>\n",
       "      <td>6</td>\n",
       "      <td>430.0</td>\n",
       "      <td>26.5</td>\n",
       "      <td>29.0</td>\n",
       "      <td>34.0</td>\n",
       "      <td>12.4440</td>\n",
       "      <td>5.1340</td>\n",
       "    </tr>\n",
       "  </tbody>\n",
       "</table>\n",
       "</div>"
      ],
      "text/plain": [
       "   Species  Weight  Length1  Length2  Length3   Height   Width\n",
       "0        6   242.0     23.2     25.4     30.0  11.5200  4.0200\n",
       "1        6   290.0     24.0     26.3     31.2  12.4800  4.3056\n",
       "2        6   340.0     23.9     26.5     31.1  12.3778  4.6961\n",
       "3        6   363.0     26.3     29.0     33.5  12.7300  4.4555\n",
       "4        6   430.0     26.5     29.0     34.0  12.4440  5.1340"
      ]
     },
     "execution_count": 16,
     "metadata": {},
     "output_type": "execute_result"
    }
   ],
   "source": [
    "data.head()"
   ]
  },
  {
   "cell_type": "markdown",
   "id": "e52a2c3c",
   "metadata": {},
   "source": [
    "#### Selecting x & y"
   ]
  },
  {
   "cell_type": "code",
   "execution_count": 17,
   "id": "2cb8b9b8",
   "metadata": {},
   "outputs": [],
   "source": [
    "x = data.drop(\"Weight\", axis=1).values"
   ]
  },
  {
   "cell_type": "code",
   "execution_count": 18,
   "id": "591d5648",
   "metadata": {},
   "outputs": [],
   "source": [
    "y = data[\"Weight\"].values"
   ]
  },
  {
   "cell_type": "markdown",
   "id": "96ea7d3e",
   "metadata": {},
   "source": [
    "#### Scaling x"
   ]
  },
  {
   "cell_type": "code",
   "execution_count": 19,
   "id": "dc92b4e9",
   "metadata": {},
   "outputs": [],
   "source": [
    "sc = StandardScaler()"
   ]
  },
  {
   "cell_type": "code",
   "execution_count": 20,
   "id": "0bc776e0",
   "metadata": {},
   "outputs": [],
   "source": [
    "x = sc.fit_transform(x)"
   ]
  },
  {
   "cell_type": "markdown",
   "id": "891b1e2f",
   "metadata": {},
   "source": [
    "##### Splitting the data into training and testing"
   ]
  },
  {
   "cell_type": "code",
   "execution_count": 21,
   "id": "8a13d66e",
   "metadata": {},
   "outputs": [],
   "source": [
    "x_train, x_test, y_train, y_test = train_test_split(x, y, test_size=0.2, random_state=0)"
   ]
  },
  {
   "cell_type": "markdown",
   "id": "267f1287",
   "metadata": {},
   "source": [
    "#### Model building"
   ]
  },
  {
   "cell_type": "code",
   "execution_count": 22,
   "id": "f4ebed98",
   "metadata": {},
   "outputs": [],
   "source": [
    "models = {\n",
    "    \"LinearRegression\": LinearRegression(),\n",
    "    \"Ridge\":Ridge(),\n",
    "    \"LinearSVR\":LinearSVR(),\n",
    "    \"DecisionTreeRegressor\":DecisionTreeRegressor(),\n",
    "    \"GradientBoostingRegressor\":GradientBoostingRegressor(),\n",
    "    \"AdaBoostRegressor\":AdaBoostRegressor(),\n",
    "    \"RandomForestRegressor\":RandomForestRegressor(),\n",
    "}"
   ]
  },
  {
   "cell_type": "code",
   "execution_count": 23,
   "id": "762308e4",
   "metadata": {
    "scrolled": true
   },
   "outputs": [
    {
     "name": "stdout",
     "output_type": "stream",
     "text": [
      "model trained with LinearRegression\n",
      "r2score:  0.9220607410135702\n",
      "mae:  72.5628266706201\n",
      "mse:  7343.549844446339\n",
      "rmse_test:  85.69451466953028\n",
      "****************************************************************************************************\n",
      "model trained with Ridge\n",
      "r2score:  0.9121387422934994\n",
      "mae:  76.96612308489678\n",
      "mse:  8278.414931758218\n",
      "rmse_test:  90.98579521968371\n",
      "****************************************************************************************************\n",
      "model trained with LinearSVR\n",
      "r2score:  -0.4742648733136725\n",
      "mae:  276.9484483488211\n",
      "mse:  138907.37122584542\n",
      "rmse_test:  372.7027920821702\n",
      "****************************************************************************************************\n",
      "model trained with DecisionTreeRegressor\n",
      "r2score:  0.9326098601593487\n",
      "mae:  51.690625000000004\n",
      "mse:  6349.5965625\n",
      "rmse_test:  79.68435582032397\n",
      "****************************************************************************************************\n",
      "model trained with GradientBoostingRegressor\n",
      "r2score:  0.9615307148417184\n",
      "mae:  40.06614579803945\n",
      "mse:  3624.631754444159\n",
      "rmse_test:  60.204914703404064\n",
      "****************************************************************************************************\n",
      "model trained with AdaBoostRegressor\n",
      "r2score:  0.945689662632823\n",
      "mae:  54.21408086103375\n",
      "mse:  5117.198632771224\n",
      "rmse_test:  71.5345974530592\n",
      "****************************************************************************************************\n",
      "model trained with RandomForestRegressor\n",
      "r2score:  0.9674111230075965\n",
      "mae:  35.56209375\n",
      "mse:  3070.5711817187503\n",
      "rmse_test:  55.41273483341848\n",
      "****************************************************************************************************\n"
     ]
    }
   ],
   "source": [
    "for name, model in models.items():\n",
    "    model.fit(x_train, y_train)\n",
    "    print(\"model trained with {}\".format(name))\n",
    "    score = r2_score(y_test, model.predict(x_test))\n",
    "    mae = mean_absolute_error(y_test, model.predict(x_test))\n",
    "    mse = mean_squared_error(y_test, model.predict(x_test))\n",
    "    rmse = np.sqrt(mse)\n",
    "    print(\"r2score: \",score)\n",
    "    print(\"mae: \", mae)\n",
    "    print(\"mse: \", mse)\n",
    "    print(\"rmse_test: \", rmse)\n",
    "    print(\"*\"*100)"
   ]
  },
  {
   "cell_type": "markdown",
   "id": "a6c6ce5e",
   "metadata": {},
   "source": [
    "##### We can see that the RandomForestRegressor is having th best perfomance. Lts try to increase its accuracy using Hyper parameter tuning."
   ]
  },
  {
   "cell_type": "markdown",
   "id": "a0fb7fd6",
   "metadata": {},
   "source": [
    "#### Create the parameter grid based on the results of random search "
   ]
  },
  {
   "cell_type": "code",
   "execution_count": 24,
   "id": "81cca9db",
   "metadata": {},
   "outputs": [],
   "source": [
    "# Number of trees in random forest\n",
    "n_estimators = [int(x) for x in np.linspace(start = 10, stop = 80, num = 10)]\n",
    "# Number of features to consider at every split\n",
    "max_features = ['auto', 'sqrt']\n",
    "# Maximum number of levels in tree\n",
    "max_depth = [2,4]\n",
    "# Minimum number of samples required to split a node\n",
    "min_samples_split = [2, 5]\n",
    "# Minimum number of samples required at each leaf node\n",
    "min_samples_leaf = [1, 2]\n",
    "# Method of selecting samples for training each tree\n",
    "bootstrap = [True, False]"
   ]
  },
  {
   "cell_type": "code",
   "execution_count": 25,
   "id": "d7739d44",
   "metadata": {},
   "outputs": [
    {
     "name": "stdout",
     "output_type": "stream",
     "text": [
      "{'n_estimators': [10, 17, 25, 33, 41, 48, 56, 64, 72, 80], 'max_features': ['auto', 'sqrt'], 'max_depth': [2, 4], 'min_samples_split': [2, 5], 'min_samples_leaf': [1, 2], 'bootstrap': [True, False]}\n"
     ]
    }
   ],
   "source": [
    "# Create the param grid\n",
    "param_grid = {'n_estimators': n_estimators,\n",
    "               'max_features': max_features,\n",
    "               'max_depth': max_depth,\n",
    "               'min_samples_split': min_samples_split,\n",
    "               'min_samples_leaf': min_samples_leaf,\n",
    "               'bootstrap': bootstrap}\n",
    "print(param_grid)"
   ]
  },
  {
   "cell_type": "code",
   "execution_count": 26,
   "id": "10b7ec75",
   "metadata": {},
   "outputs": [],
   "source": [
    "rfr_RandomGrid = RandomizedSearchCV(estimator = RandomForestRegressor(), param_distributions = param_grid, cv = 10, verbose=2, n_jobs = 4)"
   ]
  },
  {
   "cell_type": "code",
   "execution_count": 27,
   "id": "71cb34b7",
   "metadata": {},
   "outputs": [
    {
     "name": "stdout",
     "output_type": "stream",
     "text": [
      "Fitting 10 folds for each of 10 candidates, totalling 100 fits\n"
     ]
    },
    {
     "data": {
      "text/plain": [
       "RandomizedSearchCV(cv=10, estimator=RandomForestRegressor(), n_jobs=4,\n",
       "                   param_distributions={'bootstrap': [True, False],\n",
       "                                        'max_depth': [2, 4],\n",
       "                                        'max_features': ['auto', 'sqrt'],\n",
       "                                        'min_samples_leaf': [1, 2],\n",
       "                                        'min_samples_split': [2, 5],\n",
       "                                        'n_estimators': [10, 17, 25, 33, 41, 48,\n",
       "                                                         56, 64, 72, 80]},\n",
       "                   verbose=2)"
      ]
     },
     "execution_count": 27,
     "metadata": {},
     "output_type": "execute_result"
    }
   ],
   "source": [
    "rfr_RandomGrid.fit(x_train, y_train)"
   ]
  },
  {
   "cell_type": "code",
   "execution_count": 28,
   "id": "73cd8cff",
   "metadata": {
    "scrolled": true
   },
   "outputs": [
    {
     "data": {
      "text/plain": [
       "{'n_estimators': 72,\n",
       " 'min_samples_split': 5,\n",
       " 'min_samples_leaf': 1,\n",
       " 'max_features': 'auto',\n",
       " 'max_depth': 4,\n",
       " 'bootstrap': True}"
      ]
     },
     "execution_count": 28,
     "metadata": {},
     "output_type": "execute_result"
    }
   ],
   "source": [
    "rfr_RandomGrid.best_params_"
   ]
  },
  {
   "cell_type": "code",
   "execution_count": 29,
   "id": "e5fafdc5",
   "metadata": {},
   "outputs": [],
   "source": [
    "rfr_best_random = RandomForestRegressor(n_estimators= 17,\n",
    " min_samples_split= 5,\n",
    " min_samples_leaf= 1,\n",
    " max_features= 'auto',\n",
    " max_depth= 4,\n",
    " bootstrap= True)"
   ]
  },
  {
   "cell_type": "code",
   "execution_count": 30,
   "id": "60a54ebe",
   "metadata": {},
   "outputs": [
    {
     "data": {
      "text/plain": [
       "RandomForestRegressor(max_depth=4, min_samples_split=5, n_estimators=17)"
      ]
     },
     "execution_count": 30,
     "metadata": {},
     "output_type": "execute_result"
    }
   ],
   "source": [
    "rfr_best_random.fit(x_train, y_train)"
   ]
  },
  {
   "cell_type": "code",
   "execution_count": 31,
   "id": "796721a7",
   "metadata": {},
   "outputs": [],
   "source": [
    "y_pred_rfr_random = rfr_best_random.predict(x_test)"
   ]
  },
  {
   "cell_type": "markdown",
   "id": "8e275dc1",
   "metadata": {},
   "source": [
    "##### Metrics"
   ]
  },
  {
   "cell_type": "code",
   "execution_count": 32,
   "id": "7eb977af",
   "metadata": {},
   "outputs": [
    {
     "name": "stdout",
     "output_type": "stream",
     "text": [
      "r2score:  0.9613481532586665\n",
      "mae:  44.338999529772366\n",
      "mse:  3641.832971164162\n",
      "rmse_test:  60.34760120472198\n"
     ]
    }
   ],
   "source": [
    "score = r2_score(y_test, y_pred_rfr_random)\n",
    "mae = mean_absolute_error(y_test, y_pred_rfr_random)\n",
    "mse = mean_squared_error(y_test, y_pred_rfr_random)\n",
    "rmse = np.sqrt(mse)\n",
    "print(\"r2score: \",score)\n",
    "print(\"mae: \", mae)\n",
    "print(\"mse: \", mse)\n",
    "print(\"rmse_test: \", rmse)"
   ]
  },
  {
   "cell_type": "markdown",
   "id": "9b463684",
   "metadata": {},
   "source": [
    "#### Since there is no increment after the hyperparameter tuning, we may use the default parameters for the predictions."
   ]
  },
  {
   "cell_type": "code",
   "execution_count": 33,
   "id": "cee95aaf",
   "metadata": {},
   "outputs": [],
   "source": [
    "rfr = RandomForestRegressor().fit(x_train, y_train)"
   ]
  },
  {
   "cell_type": "code",
   "execution_count": 34,
   "id": "0271ccc3",
   "metadata": {},
   "outputs": [],
   "source": [
    "y_pred = rfr.predict(x)"
   ]
  },
  {
   "cell_type": "markdown",
   "id": "66aec350",
   "metadata": {},
   "source": [
    "##### Saving the output in a data frame"
   ]
  },
  {
   "cell_type": "code",
   "execution_count": 35,
   "id": "d520f902",
   "metadata": {},
   "outputs": [
    {
     "data": {
      "text/html": [
       "<div>\n",
       "<style scoped>\n",
       "    .dataframe tbody tr th:only-of-type {\n",
       "        vertical-align: middle;\n",
       "    }\n",
       "\n",
       "    .dataframe tbody tr th {\n",
       "        vertical-align: top;\n",
       "    }\n",
       "\n",
       "    .dataframe thead th {\n",
       "        text-align: right;\n",
       "    }\n",
       "</style>\n",
       "<table border=\"1\" class=\"dataframe\">\n",
       "  <thead>\n",
       "    <tr style=\"text-align: right;\">\n",
       "      <th></th>\n",
       "      <th>ACTUAL</th>\n",
       "      <th>PREDICTION</th>\n",
       "    </tr>\n",
       "  </thead>\n",
       "  <tbody>\n",
       "    <tr>\n",
       "      <th>0</th>\n",
       "      <td>242.0</td>\n",
       "      <td>252.34</td>\n",
       "    </tr>\n",
       "    <tr>\n",
       "      <th>1</th>\n",
       "      <td>290.0</td>\n",
       "      <td>297.14</td>\n",
       "    </tr>\n",
       "    <tr>\n",
       "      <th>2</th>\n",
       "      <td>340.0</td>\n",
       "      <td>319.60</td>\n",
       "    </tr>\n",
       "    <tr>\n",
       "      <th>3</th>\n",
       "      <td>363.0</td>\n",
       "      <td>369.15</td>\n",
       "    </tr>\n",
       "    <tr>\n",
       "      <th>4</th>\n",
       "      <td>430.0</td>\n",
       "      <td>429.53</td>\n",
       "    </tr>\n",
       "  </tbody>\n",
       "</table>\n",
       "</div>"
      ],
      "text/plain": [
       "   ACTUAL  PREDICTION\n",
       "0   242.0      252.34\n",
       "1   290.0      297.14\n",
       "2   340.0      319.60\n",
       "3   363.0      369.15\n",
       "4   430.0      429.53"
      ]
     },
     "execution_count": 35,
     "metadata": {},
     "output_type": "execute_result"
    }
   ],
   "source": [
    "OUTPUT = pd.DataFrame(zip(y,y_pred), columns=(\"ACTUAL\", \"PREDICTION\"))\n",
    "OUTPUT.head()"
   ]
  }
 ],
 "metadata": {
  "kernelspec": {
   "display_name": "Python 3 (ipykernel)",
   "language": "python",
   "name": "python3"
  },
  "language_info": {
   "codemirror_mode": {
    "name": "ipython",
    "version": 3
   },
   "file_extension": ".py",
   "mimetype": "text/x-python",
   "name": "python",
   "nbconvert_exporter": "python",
   "pygments_lexer": "ipython3",
   "version": "3.9.7"
  }
 },
 "nbformat": 4,
 "nbformat_minor": 5
}
